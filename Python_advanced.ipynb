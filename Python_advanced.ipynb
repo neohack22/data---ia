{
 "cells": [
  {
   "cell_type": "markdown",
   "metadata": {},
   "source": [
    "# Python avancé"
   ]
  },
  {
   "cell_type": "markdown",
   "metadata": {},
   "source": [
    "## set"
   ]
  },
  {
   "cell_type": "markdown",
   "metadata": {},
   "source": [
    "lien vers la doc Python  https://docs.python.org/3.5/tutorial/datastructures.html#sets"
   ]
  },
  {
   "cell_type": "markdown",
   "metadata": {},
   "source": [
    "> Python also includes a data type for sets. A set is an unordered collection with no duplicate elements. Basic uses include membership testing and eliminating duplicate entries. \n",
    "\n",
    "> Set objects also support mathematical operations like union, intersection, difference, and symmetric difference.\n",
    "\n",
    "> Curly braces or the set() function can be used to create sets. Note: to create an empty set you have to use set(), not {}; the latter creates an empty dictionary, a data structure that we discuss in the next section."
   ]
  },
  {
   "cell_type": "code",
   "execution_count": 1,
   "metadata": {},
   "outputs": [],
   "source": [
    "fruit = {'apple', 'orange', 'apple', 'pear', 'orange', 'banana', 'mango'}"
   ]
  },
  {
   "cell_type": "code",
   "execution_count": 2,
   "metadata": {},
   "outputs": [
    {
     "name": "stdout",
     "output_type": "stream",
     "text": [
      "{'pineapple', 'banana'}\n"
     ]
    }
   ],
   "source": [
    "basket = {'pineapple' , 'banana'}\n",
    "print(basket)"
   ]
  },
  {
   "cell_type": "code",
   "execution_count": 3,
   "metadata": {},
   "outputs": [
    {
     "name": "stdout",
     "output_type": "stream",
     "text": [
      "{'banana', 'apple', 'pear', 'orange'}\n"
     ]
    }
   ],
   "source": [
    "# idem\n",
    "print(set(['apple', 'orange', 'apple', 'pear', 'orange', 'banana']))"
   ]
  },
  {
   "cell_type": "code",
   "execution_count": 8,
   "metadata": {},
   "outputs": [
    {
     "data": {
      "text/plain": [
       "True"
      ]
     },
     "execution_count": 8,
     "metadata": {},
     "output_type": "execute_result"
    }
   ],
   "source": [
    "'pineapple' in basket"
   ]
  },
  {
   "cell_type": "code",
   "execution_count": 9,
   "metadata": {},
   "outputs": [
    {
     "data": {
      "text/plain": [
       "False"
      ]
     },
     "execution_count": 9,
     "metadata": {},
     "output_type": "execute_result"
    }
   ],
   "source": [
    "'crabgrass' in basket"
   ]
  },
  {
   "cell_type": "code",
   "execution_count": 10,
   "metadata": {},
   "outputs": [
    {
     "data": {
      "text/plain": [
       "False"
      ]
     },
     "execution_count": 10,
     "metadata": {},
     "output_type": "execute_result"
    }
   ],
   "source": [
    "'crabgrass' in basket"
   ]
  },
  {
   "cell_type": "code",
   "execution_count": 13,
   "metadata": {},
   "outputs": [
    {
     "name": "stdout",
     "output_type": "stream",
     "text": [
      "{'banana', 'mango', 'apple', 'pear', 'orange'}\n",
      "{'pineapple', 'banana'}\n"
     ]
    }
   ],
   "source": [
    "exotic = {'pineapple','banana'}\n",
    "print(fruit)\n",
    "print(exotic)"
   ]
  },
  {
   "cell_type": "code",
   "execution_count": 14,
   "metadata": {},
   "outputs": [
    {
     "data": {
      "text/plain": [
       "{'apple', 'mango', 'orange', 'pear'}"
      ]
     },
     "execution_count": 14,
     "metadata": {},
     "output_type": "execute_result"
    }
   ],
   "source": [
    "#exercice : interpréter\n",
    "fruit - exotic"
   ]
  },
  {
   "cell_type": "code",
   "execution_count": 15,
   "metadata": {},
   "outputs": [
    {
     "data": {
      "text/plain": [
       "{'apple', 'banana', 'mango', 'orange', 'pear', 'pineapple'}"
      ]
     },
     "execution_count": 15,
     "metadata": {},
     "output_type": "execute_result"
    }
   ],
   "source": [
    "# exercice : interpreter\n",
    "fruit | exotic"
   ]
  },
  {
   "cell_type": "code",
   "execution_count": 16,
   "metadata": {},
   "outputs": [
    {
     "data": {
      "text/plain": [
       "{'apple', 'mango', 'orange', 'pear', 'pineapple'}"
      ]
     },
     "execution_count": 16,
     "metadata": {},
     "output_type": "execute_result"
    }
   ],
   "source": [
    "# exercice interpreter\n",
    "fruit ^ exotic"
   ]
  },
  {
   "cell_type": "code",
   "execution_count": 17,
   "metadata": {},
   "outputs": [
    {
     "data": {
      "text/plain": [
       "{'banana'}"
      ]
     },
     "execution_count": 17,
     "metadata": {},
     "output_type": "execute_result"
    }
   ],
   "source": [
    "# exercice interpreter\n",
    "fruit & exotic"
   ]
  },
  {
   "cell_type": "markdown",
   "metadata": {},
   "source": [
    "### méthodes de l'API"
   ]
  },
  {
   "cell_type": "markdown",
   "metadata": {},
   "source": [
    "##### difference : set_A.difference(set_B)"
   ]
  },
  {
   "cell_type": "code",
   "execution_count": 18,
   "metadata": {},
   "outputs": [
    {
     "data": {
      "text/plain": [
       "{'a', 'b'}"
      ]
     },
     "execution_count": 18,
     "metadata": {},
     "output_type": "execute_result"
    }
   ],
   "source": [
    "# exercice écrire la différence des 2 ensembles suivants:\n",
    "set1 = set(['a','b','c'])\n",
    "set2 = set(['c','d','z'])"
   ]
  },
  {
   "cell_type": "code",
   "execution_count": 19,
   "metadata": {},
   "outputs": [
    {
     "data": {
      "text/plain": [
       "{'a', 'b'}"
      ]
     },
     "execution_count": 19,
     "metadata": {},
     "output_type": "execute_result"
    }
   ],
   "source": [
    "# votre code ici\n",
    "set1.difference(set2)"
   ]
  },
  {
   "cell_type": "markdown",
   "metadata": {},
   "source": [
    "##### union : set_A.union(set_B)"
   ]
  },
  {
   "cell_type": "code",
   "execution_count": 25,
   "metadata": {},
   "outputs": [],
   "source": [
    "# exercice écrire l'union des 2 ensembles \n",
    "# votre code ici"
   ]
  },
  {
   "cell_type": "markdown",
   "metadata": {},
   "source": [
    "##### intersection : set_A.intersection(set_B)"
   ]
  },
  {
   "cell_type": "code",
   "execution_count": null,
   "metadata": {},
   "outputs": [],
   "source": [
    "# exercice écrire l'union des 2 ensembles \n",
    "# votre code ici"
   ]
  },
  {
   "cell_type": "markdown",
   "metadata": {},
   "source": [
    "#### autres méthodes https://docs.python.org/3.5/library/stdtypes.html#set"
   ]
  },
  {
   "cell_type": "code",
   "execution_count": 28,
   "metadata": {},
   "outputs": [
    {
     "data": {
      "text/plain": [
       "False"
      ]
     },
     "execution_count": 28,
     "metadata": {},
     "output_type": "execute_result"
    }
   ],
   "source": [
    "set1.issubset(set2)"
   ]
  },
  {
   "cell_type": "code",
   "execution_count": null,
   "metadata": {},
   "outputs": [],
   "source": [
    "# interpréter"
   ]
  },
  {
   "cell_type": "code",
   "execution_count": 23,
   "metadata": {},
   "outputs": [],
   "source": [
    "set1.add('x')"
   ]
  },
  {
   "cell_type": "code",
   "execution_count": null,
   "metadata": {},
   "outputs": [],
   "source": [
    "#interpréter"
   ]
  },
  {
   "cell_type": "code",
   "execution_count": 30,
   "metadata": {},
   "outputs": [],
   "source": [
    "set1.remove('b')"
   ]
  },
  {
   "cell_type": "code",
   "execution_count": 32,
   "metadata": {},
   "outputs": [],
   "source": [
    "# interpreter"
   ]
  },
  {
   "cell_type": "code",
   "execution_count": 22,
   "metadata": {},
   "outputs": [
    {
     "data": {
      "text/plain": [
       "'c'"
      ]
     },
     "execution_count": 22,
     "metadata": {},
     "output_type": "execute_result"
    }
   ],
   "source": [
    "set1.pop()"
   ]
  },
  {
   "cell_type": "code",
   "execution_count": null,
   "metadata": {},
   "outputs": [],
   "source": [
    "# interpreter"
   ]
  },
  {
   "cell_type": "markdown",
   "metadata": {},
   "source": [
    "## List comprehension"
   ]
  },
  {
   "cell_type": "code",
   "execution_count": 24,
   "metadata": {},
   "outputs": [
    {
     "name": "stdout",
     "output_type": "stream",
     "text": [
      "[0, 1, 4, 9, 16, 25, 36, 49, 64, 81]\n"
     ]
    }
   ],
   "source": [
    "squares = []\n",
    "for x in range(10):\n",
    "    squares.append(x**2)\n",
    "print (squares)"
   ]
  },
  {
   "cell_type": "code",
   "execution_count": 25,
   "metadata": {},
   "outputs": [
    {
     "data": {
      "text/plain": [
       "[0, 1, 4, 9, 16, 25, 36, 49, 64, 81]"
      ]
     },
     "execution_count": 25,
     "metadata": {},
     "output_type": "execute_result"
    }
   ],
   "source": [
    "# idem\n",
    "[x**2 for x in range(10)]"
   ]
  },
  {
   "cell_type": "markdown",
   "metadata": {},
   "source": [
    "## Exceptions\n",
    "* Une exception est un événement qui se produit lors de l'exécution d'un programme.\n",
    "* Si cet événement n'est pas prévu (et donc pas géré par le développeur) => c'est une erreur, un bug\n",
    "* Lorsque l'événement est géré (à l’intérieur d’un bloc try), le développeur fournit un code alternatif pour chaque événement qui peut se produire dans certaines parties du code.\n",
    "* La gestion des événements est un moyen d'augmenter la sûreté de fonctionnement d'un programme.\n",
    "\n",
    "\n",
    "https://docs.python.org/fr/3.5/library/exceptions.html#bltin-exceptions"
   ]
  },
  {
   "cell_type": "code",
   "execution_count": 26,
   "metadata": {},
   "outputs": [],
   "source": [
    "# syntaxe :\n",
    "try:\n",
    "    #instructions fonctionnement normal\n",
    "    pass\n",
    "except evenement:\n",
    "    # instruction si evenenment se produit\n",
    "    pass\n",
    "    "
   ]
  },
  {
   "cell_type": "code",
   "execution_count": 28,
   "metadata": {},
   "outputs": [],
   "source": [
    "# plusieurs évenements :\n",
    "# syntaxe :\n",
    "try:\n",
    "    #instructions fonctionnement normal\n",
    "    pass\n",
    "except (evenement , evenement2):\n",
    "    # instruction si evenenment se produit\n",
    "    pass    "
   ]
  },
  {
   "cell_type": "code",
   "execution_count": 29,
   "metadata": {},
   "outputs": [
    {
     "name": "stdout",
     "output_type": "stream",
     "text": [
      "Entrez un entier : 1\n",
      "Vous avez enfin réussi à saisir un entier\n"
     ]
    }
   ],
   "source": [
    "while True:\n",
    "    try:\n",
    "        n = int(input(\"Entrez un entier : \"))\n",
    "        break\n",
    "    except ValueError as e:\n",
    "        print(str(e))\n",
    "        print(\"Ce n'est pas un entier! Essayez à nouveau ...\")\n",
    "print(\"Vous avez enfin réussi à saisir un entier\")"
   ]
  },
  {
   "cell_type": "markdown",
   "metadata": {},
   "source": [
    "## Fonctions "
   ]
  },
  {
   "cell_type": "markdown",
   "metadata": {},
   "source": [
    "### une fonction "
   ]
  },
  {
   "cell_type": "code",
   "execution_count": 31,
   "metadata": {},
   "outputs": [],
   "source": [
    "def ma_fonction():\n",
    "    \"\"\"ma_fonction\"\"\"\n",
    "    print(\"hi\")\n",
    "    \n",
    "    "
   ]
  },
  {
   "cell_type": "markdown",
   "metadata": {},
   "source": [
    "En Python, les noms de fonction sont des références sur les fonctions.\n",
    "Plusieurs noms (références) peuvent désigner le même objet "
   ]
  },
  {
   "cell_type": "code",
   "execution_count": 34,
   "metadata": {},
   "outputs": [],
   "source": [
    "func = ma_fonction"
   ]
  },
  {
   "cell_type": "code",
   "execution_count": 33,
   "metadata": {},
   "outputs": [
    {
     "name": "stdout",
     "output_type": "stream",
     "text": [
      "<function ma_fonction at 0x00000245C3BA3950>\n"
     ]
    }
   ],
   "source": [
    "print(func)"
   ]
  },
  {
   "cell_type": "code",
   "execution_count": 35,
   "metadata": {},
   "outputs": [
    {
     "name": "stdout",
     "output_type": "stream",
     "text": [
      "<function ma_fonction at 0x00000245C3BA3950>\n"
     ]
    }
   ],
   "source": [
    "print(ma_fonction)"
   ]
  },
  {
   "cell_type": "markdown",
   "metadata": {},
   "source": [
    "### une fonction dans une fonction"
   ]
  },
  {
   "cell_type": "code",
   "execution_count": 37,
   "metadata": {},
   "outputs": [],
   "source": [
    "def outer():\n",
    "    print(\"outer\")\n",
    "    def inner():\n",
    "        print(\"inner\")"
   ]
  },
  {
   "cell_type": "code",
   "execution_count": 47,
   "metadata": {},
   "outputs": [
    {
     "name": "stdout",
     "output_type": "stream",
     "text": [
      "outer\n"
     ]
    }
   ],
   "source": [
    "outer()"
   ]
  },
  {
   "cell_type": "code",
   "execution_count": 44,
   "metadata": {},
   "outputs": [
    {
     "ename": "NameError",
     "evalue": "name 'inner' is not defined",
     "output_type": "error",
     "traceback": [
      "\u001b[1;31m---------------------------------------------------------------------------\u001b[0m",
      "\u001b[1;31mNameError\u001b[0m                                 Traceback (most recent call last)",
      "\u001b[1;32m<ipython-input-44-bc10f1654870>\u001b[0m in \u001b[0;36m<module>\u001b[1;34m()\u001b[0m\n\u001b[1;32m----> 1\u001b[1;33m \u001b[0minner\u001b[0m\u001b[1;33m(\u001b[0m\u001b[1;33m)\u001b[0m\u001b[1;33m\u001b[0m\u001b[0m\n\u001b[0m",
      "\u001b[1;31mNameError\u001b[0m: name 'inner' is not defined"
     ]
    }
   ],
   "source": [
    "inner()"
   ]
  },
  {
   "cell_type": "markdown",
   "metadata": {},
   "source": [
    "oups, l'appel de la fonction inner() produit une erreur ......"
   ]
  },
  {
   "cell_type": "code",
   "execution_count": null,
   "metadata": {},
   "outputs": [],
   "source": [
    "# exercice expliquer pourquoi l'appel de la fonction inner() produit une erreur\n",
    "# ....."
   ]
  },
  {
   "cell_type": "code",
   "execution_count": 52,
   "metadata": {},
   "outputs": [
    {
     "name": "stdout",
     "output_type": "stream",
     "text": [
      "outer\n",
      "inner\n"
     ]
    }
   ],
   "source": [
    "# comment appeler la fonction inner() ?\n",
    "# votre code ici\n",
    "def outer():\n",
    "    #-----------------inner\n",
    "    def inner():\n",
    "        print(\"inner\")\n",
    "        #-----------------inner fin\n",
    "    print(\"outer\")    \n",
    "    inner()\n",
    "    #-----------------outer fin\n",
    "outer()\n",
    "#...."
   ]
  },
  {
   "cell_type": "markdown",
   "metadata": {},
   "source": [
    "En Python, Tout est objet \n",
    "\n",
    "* Accès via référence\n",
    "* paramêtre d'une fonction  = référence sur un objet"
   ]
  },
  {
   "cell_type": "markdown",
   "metadata": {},
   "source": [
    "### fonction en paramètre d'une fonction "
   ]
  },
  {
   "cell_type": "code",
   "execution_count": 56,
   "metadata": {},
   "outputs": [],
   "source": [
    "def g():\n",
    "    print(\"Hi, it's me 'g'\")\n",
    "    print(\"Thanks for calling me\")\n",
    "    \n",
    "def f(func):\n",
    "    print(\"Hi, it's me 'f'\")\n",
    "    print(\"I will call 'func' now\")\n",
    "    func()"
   ]
  },
  {
   "cell_type": "code",
   "execution_count": 57,
   "metadata": {},
   "outputs": [
    {
     "name": "stdout",
     "output_type": "stream",
     "text": [
      "Hi, it's me 'f'\n",
      "I will call 'func' now\n",
      "Hi, it's me 'g'\n",
      "Thanks for calling me\n"
     ]
    }
   ],
   "source": [
    "# exercice : appeler grosse_boite en lui passant une fonction en parametre\n",
    "# votre code ici\n",
    "f(g)"
   ]
  },
  {
   "cell_type": "code",
   "execution_count": 58,
   "metadata": {},
   "outputs": [
    {
     "name": "stdout",
     "output_type": "stream",
     "text": [
      "Hi, it's me 'f'\n",
      "I will call 'func' now\n",
      "coucou\n"
     ]
    }
   ],
   "source": [
    "# exercice : appeler f en lui passant la fonction suivante en parametre\n",
    "    \n",
    "def h():\n",
    "    print (\"coucou\")\n",
    "    \n",
    "f(h)"
   ]
  },
  {
   "cell_type": "markdown",
   "metadata": {},
   "source": [
    "Le nom de la fonction en cours d execution est accessible via nom_function._ _name_ _\n",
    "\n",
    "Modifier les 2 fonctions suivantes afin d'afficher le nom de la fonction"
   ]
  },
  {
   "cell_type": "code",
   "execution_count": 60,
   "metadata": {},
   "outputs": [
    {
     "name": "stdout",
     "output_type": "stream",
     "text": [
      "Hi, it's me \n",
      "I will call 'func' now\n",
      "Hi, it's me \n",
      "Thanks for calling me\n",
      "func's real name is g\n"
     ]
    }
   ],
   "source": [
    "def g():\n",
    "    print(\"Hi, it's me \")\n",
    "    print(\"Thanks for calling me\")\n",
    "    \n",
    "def f(func):\n",
    "    print(\"Hi, it's me \")\n",
    "    print(\"I will call 'func' now\")\n",
    "    func()\n",
    "    print(\"func's real name is \" + func.__name__) \n",
    "          \n",
    "f(g)"
   ]
  },
  {
   "cell_type": "markdown",
   "metadata": {},
   "source": [
    "\n",
    "\n",
    "Un autre exemple ..."
   ]
  },
  {
   "cell_type": "code",
   "execution_count": 61,
   "metadata": {},
   "outputs": [
    {
     "name": "stdout",
     "output_type": "stream",
     "text": [
      "The function sin was passed to foo\n",
      "2.3492405557375347\n",
      "The function cos was passed to foo\n",
      "-0.6769881462259364\n"
     ]
    }
   ],
   "source": [
    "import math\n",
    "\n",
    "def foo(func):\n",
    "    print(\"The function \" + func.__name__ + \" was passed to foo\")\n",
    "    res = 0\n",
    "    for x in [1, 2, 2.5]:\n",
    "        res += func(x)\n",
    "    #-----------------------------------------\n",
    "    #méthode 2 : x = 0\n",
    "    #res = func(x)\n",
    "    #-----------------------------------------\n",
    "    return res\n",
    "\n",
    "print(foo(math.sin))\n",
    "print(foo(math.cos))"
   ]
  },
  {
   "cell_type": "markdown",
   "metadata": {},
   "source": [
    "### Fonction retournant une fonction "
   ]
  },
  {
   "cell_type": "markdown",
   "metadata": {},
   "source": [
    "Output fonction = référence sur un objet \n",
    "\n",
    "Grace à cela, une fonction peut retourner \n",
    "* une variable\n",
    "* une référence sur une fonction"
   ]
  },
  {
   "cell_type": "code",
   "execution_count": 66,
   "metadata": {},
   "outputs": [],
   "source": [
    "# écrire le code d'une fonction retournant la valeur d'une variable\n"
   ]
  },
  {
   "cell_type": "code",
   "execution_count": 65,
   "metadata": {},
   "outputs": [
    {
     "name": "stdout",
     "output_type": "stream",
     "text": [
      "Hi, it's me \n",
      "Thanks for calling me\n"
     ]
    }
   ],
   "source": [
    "def g():\n",
    "    print(\"Hi, it's me \")\n",
    "    print(\"Thanks for calling me\")\n",
    "    \n",
    "def fonc():    \n",
    "    return g\n",
    "nf = fonc() # <- g\n",
    "nf()"
   ]
  },
  {
   "cell_type": "markdown",
   "metadata": {},
   "source": [
    "avec des parametres ..."
   ]
  },
  {
   "cell_type": "code",
   "execution_count": 68,
   "metadata": {},
   "outputs": [],
   "source": [
    "# exercice :\n",
    "# recopier le code dans un IDE\n",
    "# executer la commande print(nf1(1))\n",
    "# en PAS A PAS (debug)\n",
    "def f(x):\n",
    "    def g(y):\n",
    "        return y + x + 3 \n",
    "    return g\n",
    "\n",
    "nf1 = f(1)\n",
    "nf2 = f(3)"
   ]
  },
  {
   "cell_type": "code",
   "execution_count": 79,
   "metadata": {},
   "outputs": [
    {
     "name": "stdout",
     "output_type": "stream",
     "text": [
      "0 3 2\n",
      "1 5 1\n"
     ]
    }
   ],
   "source": [
    "def polynomial_creator(a, b):\n",
    "    def polynomial(x):\n",
    "        return a * x + b \n",
    "    return polynomial\n",
    "    \n",
    "p1 = polynomial_creator(2, 3)\n",
    "p2 = polynomial_creator(-1, 2)\n",
    "\n",
    "for x in range(2):\n",
    "    print(x, p1(x), p2(x))"
   ]
  },
  {
   "cell_type": "markdown",
   "metadata": {},
   "source": [
    "## Decorator"
   ]
  },
  {
   "cell_type": "markdown",
   "metadata": {},
   "source": [
    "Tous les éléments précédents vont nous servir à construire un \"decorator\"\n",
    "* en Python tout est \"objet\"\n",
    "* référence\n",
    "* fonction dans fonction \n",
    "* fonction retournant une fonction"
   ]
  },
  {
   "cell_type": "code",
   "execution_count": 64,
   "metadata": {},
   "outputs": [],
   "source": [
    "# exercice:\n",
    "# ajouter un commentaire dans le code où les éléments précédents sont présents :\n",
    "# func ?\n",
    "def our_decorator(func):    \n",
    "    # x ?\n",
    "    def function_wrapper(x):\n",
    "        print(\"\")\n",
    "        # func.__name__ ?\n",
    "        print(\"Before calling \" + func.__name__)\n",
    "        # func(x) ?\n",
    "        func(x)\n",
    "        print(\"After calling \" + func.__name__)\n",
    "    return function_wrapper"
   ]
  },
  {
   "cell_type": "code",
   "execution_count": 65,
   "metadata": {},
   "outputs": [
    {
     "name": "stdout",
     "output_type": "stream",
     "text": [
      "\n",
      "Before calling foo\n",
      "Hi, foo has been called with Hi\n",
      "After calling foo\n"
     ]
    }
   ],
   "source": [
    "@our_decorator\n",
    "def foo(x):\n",
    "    print(\"Hi, foo has been called with \" + str(x))\n",
    "\n",
    "foo(\"Hi\")"
   ]
  },
  {
   "cell_type": "code",
   "execution_count": 94,
   "metadata": {},
   "outputs": [],
   "source": [
    "# exercice :\n",
    "# 1) executer pas a pas\n",
    "# (copier coller les 2 cellules précédentes dans un IDE)\n",
    "\n",
    "# 2) commenter le code\n",
    "\n",
    "# 3) écrire la pile d'appel (là où passe le code)\n",
    "# exemple de pile d'appel:\n",
    "# fonction1(arg = 0)\n",
    "# fonction2(arg = \"blabla\")"
   ]
  },
  {
   "cell_type": "code",
   "execution_count": 71,
   "metadata": {},
   "outputs": [
    {
     "ename": "NameError",
     "evalue": "name 'hi' is not defined",
     "output_type": "error",
     "traceback": [
      "\u001b[1;31m---------------------------------------------------------------------------\u001b[0m",
      "\u001b[1;31mNameError\u001b[0m                                 Traceback (most recent call last)",
      "\u001b[1;32m<ipython-input-71-c0aa2a6e6d25>\u001b[0m in \u001b[0;36m<module>\u001b[1;34m()\u001b[0m\n\u001b[0;32m      5\u001b[0m     \u001b[0mprint\u001b[0m\u001b[1;33m(\u001b[0m\u001b[1;34m\"coucou\"\u001b[0m\u001b[1;33m)\u001b[0m\u001b[1;33m\u001b[0m\u001b[0m\n\u001b[0;32m      6\u001b[0m \u001b[1;33m\u001b[0m\u001b[0m\n\u001b[1;32m----> 7\u001b[1;33m \u001b[0mma_fonction_simple\u001b[0m\u001b[1;33m(\u001b[0m\u001b[0mhi\u001b[0m\u001b[1;33m)\u001b[0m\u001b[1;33m\u001b[0m\u001b[0m\n\u001b[0m\u001b[0;32m      8\u001b[0m \u001b[1;33m\u001b[0m\u001b[0m\n\u001b[0;32m      9\u001b[0m \u001b[1;31m# 2) décorer cette fonction à l'aide du décorateur \"our_decorator\"\u001b[0m\u001b[1;33m\u001b[0m\u001b[1;33m\u001b[0m\u001b[0m\n",
      "\u001b[1;31mNameError\u001b[0m: name 'hi' is not defined"
     ]
    }
   ],
   "source": [
    "# exercice:\n",
    "# 1) ecrire une fonction (simple) à un paramètre d'entrée\n",
    "@our_decorator\n",
    "def ma_fonction_simple():\n",
    "    print(\"coucou\")\n",
    "    \n",
    "ma_fonction_simple(hi)\n",
    "    \n",
    "# 2) décorer cette fonction à l'aide du décorateur \"our_decorator\"\n",
    "# 3) exécuter le code (pas à pas dans IDE)"
   ]
  },
  {
   "cell_type": "markdown",
   "metadata": {},
   "source": [
    "### décoration des fonctions de l'API Python "
   ]
  },
  {
   "cell_type": "markdown",
   "metadata": {},
   "source": [
    "On peut également décorer des fonctions de la bibliothèque standard Python.\n",
    "\n",
    "Dans ce cas on n'utilise PAS le @"
   ]
  },
  {
   "cell_type": "code",
   "execution_count": 116,
   "metadata": {},
   "outputs": [
    {
     "name": "stdout",
     "output_type": "stream",
     "text": [
      "3.141592653589793\n",
      "\n",
      "Before calling sin\n",
      "x= 3.141592653589793 resultat = 1.2246467991473532e-16\n",
      "After calling sin\n",
      "\n",
      "Before calling cos\n",
      "x= 3.141592653589793 resultat = -1.0\n",
      "After calling cos\n",
      "\n"
     ]
    }
   ],
   "source": [
    "from math import sin, cos, pi\n",
    "\n",
    "def our_decorator(func):\n",
    "    def function_wrapper(x):\n",
    "        print(\"Before calling \" + func.__name__)\n",
    "        res = func(x)\n",
    "        print('x= {0} resultat = {1}'.format(str(x),str(res)))\n",
    "        print(\"After calling \" + func.__name__)\n",
    "        print(\"\")\n",
    "    return function_wrapper\n",
    "\n",
    "print (pi)\n",
    "print(\"\")\n",
    "sin = our_decorator(sin)\n",
    "cos = our_decorator(cos)\n",
    "\n",
    "for f in [sin, cos]:\n",
    "    f(pi)"
   ]
  },
  {
   "cell_type": "markdown",
   "metadata": {},
   "source": [
    "Summarizing we can say that a decorator in Python is a __callable object__ that is used to __modify__ a function, method or class definition. \n",
    "\n",
    "The original object, the one which is going to be modified, \n",
    "* is passed to a decorator as an argument. \n",
    "* the decorator returns a modified object, e.g. a modified function, \n",
    "* which is bound to the name used in the definition. "
   ]
  },
  {
   "cell_type": "markdown",
   "metadata": {},
   "source": [
    "### Usage du decorator : contrôle de parametres d'entrée"
   ]
  },
  {
   "cell_type": "code",
   "execution_count": 146,
   "metadata": {},
   "outputs": [
    {
     "data": {
      "text/plain": [
       "2.0"
      ]
     },
     "execution_count": 146,
     "metadata": {},
     "output_type": "execute_result"
    }
   ],
   "source": [
    "from math import sqrt\n",
    "# sens ?\n",
    "sqrt(4)"
   ]
  },
  {
   "cell_type": "code",
   "execution_count": 156,
   "metadata": {},
   "outputs": [],
   "source": [
    "# exercice (avancé)\n",
    "# écrire le code d'un decorator (deco_arg_control) qui controle l'entrée de la fonction 'racine'\n",
    "# le décorateur lance une exception (code : raise Exception(\"attention !\")) quand le paramètre d'entrée\n",
    "# n'est pas de type approprié"
   ]
  },
  {
   "cell_type": "markdown",
   "metadata": {},
   "source": [
    "### Décorateur avancé (facultatif)\n",
    "\n",
    "#### 1) Decorator de fonction dont le nombre d'arguments est variable"
   ]
  },
  {
   "cell_type": "code",
   "execution_count": 117,
   "metadata": {},
   "outputs": [
    {
     "name": "stdout",
     "output_type": "stream",
     "text": [
      "Before calling random\n",
      "0.588308118520863\n",
      "After calling random\n",
      "Before calling randint\n",
      "4\n",
      "After calling randint\n",
      "Before calling choice\n",
      "30\n",
      "After calling choice\n"
     ]
    }
   ],
   "source": [
    "from random import random, randint, choice\n",
    "\n",
    "def our_decorator(func):\n",
    "    def function_wrapper(*args, **kwargs):\n",
    "        print(\"Before calling \" + func.__name__)\n",
    "        res = func(*args, **kwargs)\n",
    "        print(res)\n",
    "        print(\"After calling \" + func.__name__)\n",
    "    return function_wrapper\n",
    "\n",
    "random = our_decorator(random)\n",
    "randint = our_decorator(randint)\n",
    "choice = our_decorator(choice)\n",
    "\n",
    "# sens ?\n",
    "random()\n",
    "# sens ?\n",
    "randint(3, 8) \n",
    "# sens ?\n",
    "choice([10, 20, 30])"
   ]
  },
  {
   "cell_type": "code",
   "execution_count": 113,
   "metadata": {},
   "outputs": [],
   "source": [
    "# exercice :\n",
    "# 1) executer pas a pas\n",
    "# (copier coller dans un IDE)\n",
    "\n",
    "# 2) commenter le code\n",
    "\n",
    "# 3) écrire la pile d'appel (là où passe le code)\n",
    "# exemple de pile d'appel:\n",
    "# fonction1(arg = 0)\n",
    "# fonction2(arg = \"blabla\")"
   ]
  },
  {
   "cell_type": "markdown",
   "metadata": {},
   "source": [
    "Voici 2 decorators (presque) identiques"
   ]
  },
  {
   "cell_type": "code",
   "execution_count": 168,
   "metadata": {},
   "outputs": [
    {
     "name": "stdout",
     "output_type": "stream",
     "text": [
      "Good evening mister bond\n",
      "Good morning mister bond\n"
     ]
    }
   ],
   "source": [
    "def evening_greeting(func):\n",
    "    def function_wrapper():\n",
    "        print(\"Good evening mister \" + func.__name__)\n",
    "        func()\n",
    "    return function_wrapper\n",
    "\n",
    "def morning_greeting(func):\n",
    "    def function_wrapper():\n",
    "        print(\"Good morning mister \" + func.__name__ )\n",
    "        func()\n",
    "    return function_wrapper\n",
    "\n",
    "@evening_greeting\n",
    "def bond():\n",
    "    pass\n",
    "bond()\n",
    "\n",
    "@morning_greeting\n",
    "def bond():\n",
    "    pass\n",
    "\n",
    "bond()"
   ]
  },
  {
   "cell_type": "markdown",
   "metadata": {},
   "source": [
    "__Problème__ :   \n",
    "Le code est dupliqué et presque identique (morning vs evening)....  \n",
    "Pas bon !\n",
    "\n",
    "__Solution__ :   \n",
    "Il faudrait ajouter un parametre (hi) au décorateur afin de rendre le code + simple"
   ]
  },
  {
   "cell_type": "code",
   "execution_count": 171,
   "metadata": {},
   "outputs": [
    {
     "name": "stdout",
     "output_type": "stream",
     "text": [
      "Good evening  mister bond\n",
      "Good morning  mister bond\n"
     ]
    }
   ],
   "source": [
    "def greeting(expr):\n",
    "    def greeting_decorator(func):\n",
    "        def function_wrapper():\n",
    "            print(expr + \" mister \" + func.__name__ )\n",
    "            func()\n",
    "        return function_wrapper\n",
    "    return greeting_decorator\n",
    "\n",
    "hi = \"Good evening \"\n",
    "@greeting(hi)\n",
    "def bond():\n",
    "    pass\n",
    "\n",
    "bond()\n",
    "\n",
    "\n",
    "hi = \"Good morning \"\n",
    "@greeting(hi)\n",
    "def bond():\n",
    "    pass\n",
    "\n",
    "bond()"
   ]
  },
  {
   "cell_type": "code",
   "execution_count": null,
   "metadata": {},
   "outputs": [],
   "source": [
    "# exercice :\n",
    "# 1) executer pas a pas\n",
    "# (copier coller dans un IDE)\n",
    "\n",
    "# 2) commenter le code\n",
    "\n",
    "# 3) écrire la pile d'appel (là où passe le code)\n",
    "# exemple de pile d'appel:\n",
    "# fonction1(arg = 0)\n",
    "# fonction2(arg = \"blabla\")"
   ]
  }
 ],
 "metadata": {
  "kernelspec": {
   "display_name": "Python 3",
   "language": "python",
   "name": "python3"
  },
  "language_info": {
   "codemirror_mode": {
    "name": "ipython",
    "version": 3
   },
   "file_extension": ".py",
   "mimetype": "text/x-python",
   "name": "python",
   "nbconvert_exporter": "python",
   "pygments_lexer": "ipython3",
   "version": "3.6.4"
  }
 },
 "nbformat": 4,
 "nbformat_minor": 2
}
