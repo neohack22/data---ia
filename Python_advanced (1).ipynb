{
 "cells": [
  {
   "cell_type": "markdown",
   "metadata": {},
   "source": [
    "# Python avancé"
   ]
  },
  {
   "cell_type": "markdown",
   "metadata": {},
   "source": [
    "## set"
   ]
  },
  {
   "cell_type": "markdown",
   "metadata": {},
   "source": [
    "lien vers la doc Python  https://docs.python.org/3.5/tutorial/datastructures.html#sets"
   ]
  },
  {
   "cell_type": "markdown",
   "metadata": {},
   "source": [
    "> Python also includes a data type for sets. A set is an unordered collection with no duplicate elements. Basic uses include membership testing and eliminating duplicate entries. \n",
    "\n",
    "> Set objects also support mathematical operations like union, intersection, difference, and symmetric difference.\n",
    "\n",
    "> Curly braces or the set() function can be used to create sets. Note: to create an empty set you have to use set(), not {}; the latter creates an empty dictionary, a data structure that we discuss in the next section."
   ]
  },
  {
   "cell_type": "code",
   "execution_count": 29,
   "metadata": {},
   "outputs": [
    {
     "name": "stdout",
     "output_type": "stream",
     "text": [
      "{'mango', 'pear', 'orange', 'banana', 'apple'}\n"
     ]
    }
   ],
   "source": [
    "fruit = {'apple', 'orange', 'apple', 'pear', 'orange', 'banana', 'mango'}\n",
    "print(fruit)"
   ]
  },
  {
   "cell_type": "code",
   "execution_count": 30,
   "metadata": {},
   "outputs": [
    {
     "name": "stdout",
     "output_type": "stream",
     "text": [
      "{'pineapple', 'banana'}\n"
     ]
    }
   ],
   "source": [
    "basket = {'pineapple' , 'banana'}\n",
    "print(basket)"
   ]
  },
  {
   "cell_type": "code",
   "execution_count": 31,
   "metadata": {},
   "outputs": [
    {
     "name": "stdout",
     "output_type": "stream",
     "text": [
      "{'pear', 'orange', 'banana', 'apple'}\n"
     ]
    }
   ],
   "source": [
    "# idem\n",
    "print(set(['apple', 'orange', 'apple', 'pear', 'orange', 'banana']))"
   ]
  },
  {
   "cell_type": "code",
   "execution_count": 32,
   "metadata": {},
   "outputs": [
    {
     "data": {
      "text/plain": [
       "True"
      ]
     },
     "execution_count": 32,
     "metadata": {},
     "output_type": "execute_result"
    }
   ],
   "source": [
    "'pineapple' in basket"
   ]
  },
  {
   "cell_type": "code",
   "execution_count": 33,
   "metadata": {},
   "outputs": [
    {
     "data": {
      "text/plain": [
       "False"
      ]
     },
     "execution_count": 33,
     "metadata": {},
     "output_type": "execute_result"
    }
   ],
   "source": [
    "'crabgrass' in basket"
   ]
  },
  {
   "cell_type": "code",
   "execution_count": 34,
   "metadata": {},
   "outputs": [
    {
     "data": {
      "text/plain": [
       "False"
      ]
     },
     "execution_count": 34,
     "metadata": {},
     "output_type": "execute_result"
    }
   ],
   "source": [
    "'crabgrass' in basket"
   ]
  },
  {
   "cell_type": "code",
   "execution_count": 35,
   "metadata": {},
   "outputs": [
    {
     "name": "stdout",
     "output_type": "stream",
     "text": [
      "{'mango', 'pear', 'orange', 'banana', 'apple'}\n",
      "{'pineapple', 'banana'}\n"
     ]
    }
   ],
   "source": [
    "exotic = {'pineapple','banana'}\n",
    "print(fruit)\n",
    "print(exotic)"
   ]
  },
  {
   "cell_type": "code",
   "execution_count": 36,
   "metadata": {},
   "outputs": [
    {
     "data": {
      "text/plain": [
       "{'apple', 'mango', 'orange', 'pear'}"
      ]
     },
     "execution_count": 36,
     "metadata": {},
     "output_type": "execute_result"
    }
   ],
   "source": [
    "#exercice : interpréter\n",
    "fruit - exotic"
   ]
  },
  {
   "cell_type": "code",
   "execution_count": 37,
   "metadata": {},
   "outputs": [
    {
     "data": {
      "text/plain": [
       "{'apple', 'banana', 'mango', 'orange', 'pear', 'pineapple'}"
      ]
     },
     "execution_count": 37,
     "metadata": {},
     "output_type": "execute_result"
    }
   ],
   "source": [
    "# exercice : interpreter\n",
    "fruit | exotic"
   ]
  },
  {
   "cell_type": "code",
   "execution_count": 38,
   "metadata": {},
   "outputs": [
    {
     "data": {
      "text/plain": [
       "{'apple', 'mango', 'orange', 'pear', 'pineapple'}"
      ]
     },
     "execution_count": 38,
     "metadata": {},
     "output_type": "execute_result"
    }
   ],
   "source": [
    "# exercice interpreter\n",
    "fruit ^ exotic"
   ]
  },
  {
   "cell_type": "code",
   "execution_count": 39,
   "metadata": {},
   "outputs": [
    {
     "data": {
      "text/plain": [
       "{'banana'}"
      ]
     },
     "execution_count": 39,
     "metadata": {},
     "output_type": "execute_result"
    }
   ],
   "source": [
    "# exercice interpreter\n",
    "fruit & exotic"
   ]
  },
  {
   "cell_type": "markdown",
   "metadata": {},
   "source": [
    "### méthodes de l'API"
   ]
  },
  {
   "cell_type": "markdown",
   "metadata": {},
   "source": [
    "##### difference : set_A.difference(set_B)"
   ]
  },
  {
   "cell_type": "code",
   "execution_count": 40,
   "metadata": {},
   "outputs": [],
   "source": [
    "# exercice écrire la différence des 2 ensembles suivants:\n",
    "set1 = set(['a','b','c'])\n",
    "set2 = set(['c','d','z'])"
   ]
  },
  {
   "cell_type": "code",
   "execution_count": 41,
   "metadata": {},
   "outputs": [
    {
     "data": {
      "text/plain": [
       "{'d', 'z'}"
      ]
     },
     "execution_count": 41,
     "metadata": {},
     "output_type": "execute_result"
    }
   ],
   "source": [
    "# votre code ici\n",
    "set1.difference(set2)\n",
    "set2.difference(set1)"
   ]
  },
  {
   "cell_type": "markdown",
   "metadata": {},
   "source": [
    "##### union : set_A.union(set_B)"
   ]
  },
  {
   "cell_type": "code",
   "execution_count": 42,
   "metadata": {},
   "outputs": [],
   "source": [
    "# exercice écrire l'union des 2 ensembles \n",
    "# votre code ici"
   ]
  },
  {
   "cell_type": "markdown",
   "metadata": {},
   "source": [
    "##### intersection : set_A.intersection(set_B)"
   ]
  },
  {
   "cell_type": "code",
   "execution_count": 43,
   "metadata": {},
   "outputs": [],
   "source": [
    "# exercice écrire l'union des 2 ensembles \n",
    "# votre code ici"
   ]
  },
  {
   "cell_type": "markdown",
   "metadata": {},
   "source": [
    "#### autres méthodes https://docs.python.org/3.5/library/stdtypes.html#set"
   ]
  },
  {
   "cell_type": "code",
   "execution_count": 44,
   "metadata": {},
   "outputs": [
    {
     "name": "stdout",
     "output_type": "stream",
     "text": [
      "False\n",
      "{'b', 'c', 'a'}\n",
      "{'c', 'z', 'd'}\n"
     ]
    }
   ],
   "source": [
    "print(set1.issubset(set2))\n",
    "print(set1)\n",
    "print(set2)"
   ]
  },
  {
   "cell_type": "code",
   "execution_count": 45,
   "metadata": {},
   "outputs": [],
   "source": [
    "# interpréter"
   ]
  },
  {
   "cell_type": "code",
   "execution_count": 46,
   "metadata": {},
   "outputs": [
    {
     "name": "stdout",
     "output_type": "stream",
     "text": [
      "{'b', 'c', 'a'}\n",
      "{'x', 'b', 'c', 'a'}\n"
     ]
    }
   ],
   "source": [
    "print(set1)\n",
    "set1.add('x')\n",
    "print(set1)"
   ]
  },
  {
   "cell_type": "code",
   "execution_count": 47,
   "metadata": {},
   "outputs": [],
   "source": [
    "#interpréter"
   ]
  },
  {
   "cell_type": "code",
   "execution_count": 48,
   "metadata": {},
   "outputs": [
    {
     "name": "stdout",
     "output_type": "stream",
     "text": [
      "{'x', 'b', 'c', 'a'}\n",
      "{'x', 'c', 'a'}\n"
     ]
    }
   ],
   "source": [
    "print(set1)\n",
    "set1.remove('b')\n",
    "print(set1)"
   ]
  },
  {
   "cell_type": "code",
   "execution_count": 49,
   "metadata": {},
   "outputs": [],
   "source": [
    "# interpreter"
   ]
  },
  {
   "cell_type": "code",
   "execution_count": 50,
   "metadata": {},
   "outputs": [
    {
     "data": {
      "text/plain": [
       "'x'"
      ]
     },
     "execution_count": 50,
     "metadata": {},
     "output_type": "execute_result"
    }
   ],
   "source": [
    "set1.pop()"
   ]
  },
  {
   "cell_type": "code",
   "execution_count": 51,
   "metadata": {},
   "outputs": [],
   "source": [
    "# interpreter"
   ]
  },
  {
   "cell_type": "markdown",
   "metadata": {},
   "source": [
    "## List comprehension"
   ]
  },
  {
   "cell_type": "code",
   "execution_count": 52,
   "metadata": {},
   "outputs": [
    {
     "name": "stdout",
     "output_type": "stream",
     "text": [
      "[0, 1, 4, 9, 16, 25, 36, 49, 64, 81]\n"
     ]
    }
   ],
   "source": [
    "squares = []\n",
    "for x in range(10):\n",
    "    squares.append(x**2)\n",
    "print (squares)"
   ]
  },
  {
   "cell_type": "code",
   "execution_count": 53,
   "metadata": {},
   "outputs": [
    {
     "data": {
      "text/plain": [
       "[0, 1, 4, 9, 16, 25, 36, 49, 64, 81]"
      ]
     },
     "execution_count": 53,
     "metadata": {},
     "output_type": "execute_result"
    }
   ],
   "source": [
    "# idem\n",
    "[x**2 for x in range(10)]"
   ]
  },
  {
   "cell_type": "code",
   "execution_count": 54,
   "metadata": {},
   "outputs": [
    {
     "data": {
      "text/plain": [
       "[1, 2, 3, 4, 5, 6]"
      ]
     },
     "execution_count": 54,
     "metadata": {},
     "output_type": "execute_result"
    }
   ],
   "source": [
    "[x +1 for x in range(6)]"
   ]
  },
  {
   "cell_type": "markdown",
   "metadata": {},
   "source": [
    "## Exceptions\n",
    "* Une exception est un événement qui se produit lors de l'exécution d'un programme.\n",
    "* Si cet événement n'est pas prévu (et donc pas géré par le développeur) => c'est une erreur, un bug\n",
    "* Lorsque l'événement est géré (à l’intérieur d’un bloc try), le développeur fournit un code alternatif pour chaque événement qui peut se produire dans certaines parties du code.\n",
    "* La gestion des événements est un moyen d'augmenter la sûreté de fonctionnement d'un programme.\n",
    "\n",
    "\n",
    "https://docs.python.org/fr/3.5/library/exceptions.html#bltin-exceptions"
   ]
  },
  {
   "cell_type": "code",
   "execution_count": 55,
   "metadata": {},
   "outputs": [],
   "source": [
    "# syntaxe :\n",
    "try:\n",
    "    #instructions fonctionnement normal\n",
    "    pass\n",
    "except evenement:\n",
    "    # instruction si evenenment se produit\n",
    "    pass"
   ]
  },
  {
   "cell_type": "code",
   "execution_count": 56,
   "metadata": {},
   "outputs": [],
   "source": [
    "# plusieurs évenements :\n",
    "# syntaxe :\n",
    "try:\n",
    "    #instructions fonctionnement normal\n",
    "    pass\n",
    "except (evenement , evenement2):\n",
    "    # instruction si evenenment se produit\n",
    "    pass\n",
    "    "
   ]
  },
  {
   "cell_type": "code",
   "execution_count": 57,
   "metadata": {},
   "outputs": [
    {
     "name": "stdout",
     "output_type": "stream",
     "text": [
      "Vous avez enfin réussi à saisir un entier\n"
     ]
    }
   ],
   "source": [
    "while True:\n",
    "    try:\n",
    "        n = int(input(\"Entrez un entier : \"))\n",
    "        break\n",
    "    except ValueError as e:\n",
    "        print(str(e))\n",
    "        print(\"Ce n'est pas un entier! Essayez à nouveau ...\")\n",
    "print(\"Vous avez enfin réussi à saisir un entier\")"
   ]
  },
  {
   "cell_type": "code",
   "execution_count": 58,
   "metadata": {},
   "outputs": [
    {
     "data": {
      "text/plain": [
       "int"
      ]
     },
     "execution_count": 58,
     "metadata": {},
     "output_type": "execute_result"
    }
   ],
   "source": [
    "n = int(input(\"\"))\n",
    "type(n)"
   ]
  },
  {
   "cell_type": "code",
   "execution_count": 59,
   "metadata": {},
   "outputs": [],
   "source": [
    "# exercice :\n",
    "# comment fabriquer ses propres exceptions et les utiliser ensuite ?\n",
    "# il faut faire hériter de la classe mère (Exception)"
   ]
  },
  {
   "cell_type": "code",
   "execution_count": 60,
   "metadata": {},
   "outputs": [],
   "source": [
    "# votre code ici"
   ]
  },
  {
   "cell_type": "markdown",
   "metadata": {},
   "source": [
    "## Les Fonctions. Notions Avancées"
   ]
  },
  {
   "cell_type": "markdown",
   "metadata": {},
   "source": [
    "### une fonction "
   ]
  },
  {
   "cell_type": "code",
   "execution_count": 61,
   "metadata": {},
   "outputs": [],
   "source": [
    "def ma_fonction():\n",
    "    \"\"\"ma_fonction\"\"\"\n",
    "    print(\"hi\")"
   ]
  },
  {
   "cell_type": "code",
   "execution_count": 62,
   "metadata": {},
   "outputs": [
    {
     "ename": "NameError",
     "evalue": "name 'ma_function' is not defined",
     "output_type": "error",
     "traceback": [
      "\u001b[0;31m---------------------------------------------------------------------------\u001b[0m",
      "\u001b[0;31mNameError\u001b[0m                                 Traceback (most recent call last)",
      "\u001b[0;32m<ipython-input-62-8b79e04b1067>\u001b[0m in \u001b[0;36m<module>\u001b[0;34m()\u001b[0m\n\u001b[0;32m----> 1\u001b[0;31m \u001b[0mprint\u001b[0m\u001b[0;34m(\u001b[0m\u001b[0mma_function\u001b[0m\u001b[0;34m)\u001b[0m\u001b[0;34m\u001b[0m\u001b[0m\n\u001b[0m",
      "\u001b[0;31mNameError\u001b[0m: name 'ma_function' is not defined"
     ]
    }
   ],
   "source": [
    "print(ma_function)"
   ]
  },
  {
   "cell_type": "markdown",
   "metadata": {},
   "source": [
    "En Python, les noms de fonction sont des références sur les fonctions.\n",
    "Plusieurs noms (références) peuvent désigner le même objet "
   ]
  },
  {
   "cell_type": "code",
   "execution_count": null,
   "metadata": {},
   "outputs": [],
   "source": [
    "func = ma_fonction"
   ]
  },
  {
   "cell_type": "code",
   "execution_count": null,
   "metadata": {},
   "outputs": [],
   "source": [
    "print(func)"
   ]
  },
  {
   "cell_type": "code",
   "execution_count": null,
   "metadata": {},
   "outputs": [],
   "source": [
    "print(ma_fonction)"
   ]
  },
  {
   "cell_type": "markdown",
   "metadata": {},
   "source": [
    "### une fonction dans une fonction"
   ]
  },
  {
   "cell_type": "code",
   "execution_count": null,
   "metadata": {},
   "outputs": [],
   "source": [
    "def outer():\n",
    "    print(\"outer\")\n",
    "    def inner():\n",
    "        print(\"inner\")\n",
    "outer()"
   ]
  },
  {
   "cell_type": "code",
   "execution_count": null,
   "metadata": {},
   "outputs": [],
   "source": [
    "outer()"
   ]
  },
  {
   "cell_type": "code",
   "execution_count": null,
   "metadata": {},
   "outputs": [],
   "source": [
    "inner()"
   ]
  },
  {
   "cell_type": "markdown",
   "metadata": {},
   "source": [
    "oups, l'appel de la fonction inner() produit une erreur ......"
   ]
  },
  {
   "cell_type": "code",
   "execution_count": null,
   "metadata": {},
   "outputs": [],
   "source": [
    "# exercice expliquer pourquoi l'appel de la fonction inner() produit une erreur\n",
    "# ....."
   ]
  },
  {
   "cell_type": "code",
   "execution_count": null,
   "metadata": {},
   "outputs": [],
   "source": [
    "# comment appeler la fonction inner() ?\n",
    "# votre code ici\n",
    "#----------------- outer\n",
    "def outer():\n",
    "#----------- inner\n",
    "    def inner():\n",
    "        print(\"inner\")\n",
    "#---------- inner fin        \n",
    "    print(\"outer\")    \n",
    "#....votre code ici\n",
    "    inner()\n",
    "#----------------- outer fin\n",
    "outer()"
   ]
  },
  {
   "cell_type": "markdown",
   "metadata": {},
   "source": [
    "En Python, Tout est objet \n",
    "\n",
    "* Accès via référence\n",
    "* paramêtre d'une fonction  = référence sur un objet"
   ]
  },
  {
   "cell_type": "markdown",
   "metadata": {},
   "source": [
    "### fonction en paramètre d'une fonction "
   ]
  },
  {
   "cell_type": "code",
   "execution_count": null,
   "metadata": {},
   "outputs": [],
   "source": [
    "def petit_carton():\n",
    "    pass\n",
    "def moyen_carton():\n",
    "    pass\n",
    "def gros_carton(func):\n",
    "    print(func.__name__)\n",
    "    func()\n",
    "#========================\n",
    "# client moyenne boite\n",
    "gros_carton(moyen_carton)"
   ]
  },
  {
   "cell_type": "code",
   "execution_count": null,
   "metadata": {},
   "outputs": [],
   "source": [
    "# exercice : appeler grosse_boite en lui passant une fonction \n",
    "# en parametre (petite_boite)\n",
    "# votre code ici\n"
   ]
  },
  {
   "cell_type": "code",
   "execution_count": null,
   "metadata": {},
   "outputs": [],
   "source": [
    "# exercice : appeler f en lui passant la fonction suivante en parametre\n",
    "    \n",
    "def h():\n",
    "    print (\"coucou\")"
   ]
  },
  {
   "cell_type": "markdown",
   "metadata": {},
   "source": [
    "Le nom de la fonction en cours d execution est accessible via nom_function._ _name_ _\n",
    "\n",
    "Modifier les 2 fonctions suivantes afin d'afficher le nom de la fonction"
   ]
  },
  {
   "cell_type": "code",
   "execution_count": null,
   "metadata": {},
   "outputs": [],
   "source": [
    "def g():\n",
    "    print(\"Hi, it's me \")\n",
    "    print(\"Thanks for calling me\")\n",
    "    \n",
    "def f(func):\n",
    "    print(\"Hi, it's me \")\n",
    "    print(\"I will call 'func' now\")\n",
    "    func()\n",
    "    print(\"func's real name is \") \n",
    "          \n",
    "f(g)"
   ]
  },
  {
   "cell_type": "markdown",
   "metadata": {},
   "source": [
    "Un exemple avec l'API Python standard"
   ]
  },
  {
   "cell_type": "code",
   "execution_count": null,
   "metadata": {},
   "outputs": [],
   "source": [
    "import math\n",
    "\n",
    "def foo(func):\n",
    "    print(\"The function \" + func.__name__ + \" was passed to foo\")\n",
    "    x = 0\n",
    "    res = func(x)\n",
    "    return res\n",
    "\n",
    "print(foo(math.sin))\n",
    "print(foo(math.cos))"
   ]
  },
  {
   "cell_type": "markdown",
   "metadata": {},
   "source": [
    "### Fonction retournant une fonction "
   ]
  },
  {
   "cell_type": "markdown",
   "metadata": {},
   "source": [
    "Output fonction = référence sur un objet \n",
    "\n",
    "Grace à cela, une fonction peut retourner \n",
    "* une variable\n",
    "* une référence sur une fonction"
   ]
  },
  {
   "cell_type": "code",
   "execution_count": null,
   "metadata": {},
   "outputs": [],
   "source": [
    "# écrire le code d'une fonction retournant la valeur d'une variable\n"
   ]
  },
  {
   "cell_type": "code",
   "execution_count": null,
   "metadata": {},
   "outputs": [],
   "source": [
    "def g():\n",
    "    print(\"Hi, it's me \")\n",
    "    print(\"Thanks for calling me\")\n",
    "    \n",
    "def fonc():    \n",
    "    return g\n",
    "nf = fonc() # <- g\n",
    "nf()"
   ]
  },
  {
   "cell_type": "markdown",
   "metadata": {},
   "source": [
    "avec des parametres ..."
   ]
  },
  {
   "cell_type": "code",
   "execution_count": null,
   "metadata": {},
   "outputs": [],
   "source": [
    "# exercice :\n",
    "# recopier le code dans un IDE\n",
    "# executer la commande print(nf1(1))\n",
    "# en PAS A PAS (debug)\n",
    "def f(x):\n",
    "    def g(y):\n",
    "        return y + x + 3 \n",
    "    return g\n",
    "\n",
    "nf1 = f(1)\n",
    "nf2 = f(3)\n",
    "\n",
    "print(nf1(1))"
   ]
  },
  {
   "cell_type": "code",
   "execution_count": null,
   "metadata": {},
   "outputs": [],
   "source": [
    "def polynomial_creator(a, b):\n",
    "    def polynomial(x):\n",
    "        return a * x + b \n",
    "    return polynomial\n",
    "    \n",
    "p1 = polynomial_creator(2, 3)\n",
    "p2 = polynomial_creator(-1, 2)\n",
    "\n",
    "for x in range(2):\n",
    "    print(x, p1(x), p2(x))"
   ]
  },
  {
   "cell_type": "markdown",
   "metadata": {},
   "source": [
    "## Decorator"
   ]
  },
  {
   "cell_type": "markdown",
   "metadata": {},
   "source": [
    "Tous les éléments précédents vont nous servir à construire un \"decorator\"\n",
    "* en Python tout est \"objet\"\n",
    "* référence\n",
    "* fonction dans fonction \n",
    "* fonction retournant une fonction"
   ]
  },
  {
   "cell_type": "code",
   "execution_count": null,
   "metadata": {},
   "outputs": [],
   "source": [
    "# exercice:\n",
    "# ajouter un commentaire dans le code où les éléments précédents sont présents :\n",
    "# func ?\n",
    "def our_decorator(func):    \n",
    "    def function_wrapper(x):\n",
    "        print(\"\")\n",
    "        # func.__name__ ?\n",
    "        print(\"Before calling \" + func.__name__)\n",
    "        # func() ?\n",
    "        func(x)\n",
    "        print(\"After calling \" + func.__name__)\n",
    "    return function_wrapper"
   ]
  },
  {
   "cell_type": "code",
   "execution_count": null,
   "metadata": {},
   "outputs": [],
   "source": [
    "@our_decorator\n",
    "def foo():\n",
    "    print(\"Hi, foo has been called with \")\n",
    "\n",
    "foo()"
   ]
  },
  {
   "cell_type": "code",
   "execution_count": null,
   "metadata": {},
   "outputs": [],
   "source": [
    "# exercice :\n",
    "# 1) executer pas a pas\n",
    "# (copier coller les 2 cellules précédentes dans un IDE)\n",
    "\n",
    "# 2) commenter le code\n",
    "\n",
    "# 3) écrire la pile d'appel (là où passe le code)\n",
    "# exemple de pile d'appel:\n",
    "# fonction1(arg = 0)\n",
    "# fonction2(arg = \"blabla\")"
   ]
  },
  {
   "cell_type": "code",
   "execution_count": null,
   "metadata": {},
   "outputs": [],
   "source": [
    "# exercice:\n",
    "# 1) ecrire une fonction (simple) à un paramètre d'entrée\n",
    "@our_decorator\n",
    "def ma_fonction_simple(x):\n",
    "    print(\"coucou\")\n",
    "\n",
    "ma_fonction_simple(\"hi\")\n",
    "\n",
    "# 2) décorer cette fonction à l'aide du décorateur \"our_decorator\"\n",
    "# 3) exécuter le code (pas à pas dans IDE)"
   ]
  },
  {
   "cell_type": "markdown",
   "metadata": {},
   "source": [
    "### décoration des fonctions de l'API Python "
   ]
  },
  {
   "cell_type": "markdown",
   "metadata": {},
   "source": [
    "On peut également décorer des fonctions de la bibliothèque standard Python.\n",
    "\n",
    "Dans ce cas on n'utilise PAS le @"
   ]
  },
  {
   "cell_type": "code",
   "execution_count": null,
   "metadata": {},
   "outputs": [],
   "source": [
    "from math import sin, cos, pi\n",
    "\n",
    "def our_decorator(func):\n",
    "    def function_wrapper(x):\n",
    "        print(\"Before calling \" + func.__name__)\n",
    "        res = func(x)\n",
    "        print('x= {0} resultat = {1}'.format(str(x),str(res)))\n",
    "        print(\"After calling \" + func.__name__)\n",
    "        print(\"\")\n",
    "    return function_wrapper\n",
    "\n",
    "print (pi)\n",
    "print(\"\")\n",
    "sin_ = our_decorator(sin)\n",
    "cos_ = our_decorator(cos)\n",
    "\n",
    "for f in [sin_]:\n",
    "    f(pi)"
   ]
  },
  {
   "cell_type": "markdown",
   "metadata": {},
   "source": [
    "Summarizing we can say that a decorator in Python is a __callable object__ that is used to __modify__ a function, method or class definition. \n",
    "\n",
    "The original object, the one which is going to be modified, \n",
    "* is passed to a decorator as an argument. \n",
    "* the decorator returns a modified object, e.g. a modified function, \n",
    "* which is bound to the name used in the definition. "
   ]
  },
  {
   "cell_type": "markdown",
   "metadata": {},
   "source": [
    "### Usage du decorator : contrôle de parametres d'entrée"
   ]
  },
  {
   "cell_type": "code",
   "execution_count": null,
   "metadata": {},
   "outputs": [],
   "source": [
    "from math import sqrt\n",
    "# sens ?\n",
    "sqrt(4)\n",
    "raise Exception(\"attention !\")"
   ]
  },
  {
   "cell_type": "code",
   "execution_count": null,
   "metadata": {},
   "outputs": [],
   "source": [
    "# exercice (avancé)\n",
    "# écrire le code d'un decorator (deco_arg_control) qui controle l'entrée de la fonction 'racine'\n",
    "# le décorateur lance une exception (code : raise Exception(\"attention !\")) quand le paramètre d'entrée\n",
    "# n'est pas de type approprié"
   ]
  },
  {
   "cell_type": "markdown",
   "metadata": {},
   "source": [
    "### Décorateur avancé (facultatif)\n",
    "\n",
    "#### 1) Decorator de fonction dont le nombre d'arguments est variable"
   ]
  },
  {
   "cell_type": "code",
   "execution_count": null,
   "metadata": {},
   "outputs": [],
   "source": [
    "from random import random, randint, choice\n",
    "\n",
    "def our_decorator(func):\n",
    "    def function_wrapper(*args, **kwargs):\n",
    "        print(\"Before calling \" + func.__name__)\n",
    "        res = func(*args, **kwargs)\n",
    "        print(res)\n",
    "        print(\"After calling \" + func.__name__)\n",
    "    return function_wrapper\n",
    "\n",
    "random = our_decorator(random)\n",
    "randint = our_decorator(randint)\n",
    "choice = our_decorator(choice)\n",
    "\n",
    "# sens ?\n",
    "random()\n",
    "# sens ?\n",
    "randint(3, 8) \n",
    "# sens ?\n",
    "choice([10, 20, 30])"
   ]
  },
  {
   "cell_type": "code",
   "execution_count": null,
   "metadata": {},
   "outputs": [],
   "source": [
    "# exercice :\n",
    "# 1) executer pas a pas\n",
    "# (copier coller dans un IDE)\n",
    "\n",
    "# 2) commenter le code\n",
    "\n",
    "# 3) écrire la pile d'appel (là où passe le code)\n",
    "# exemple de pile d'appel:\n",
    "# fonction1(arg = 0)\n",
    "# fonction2(arg = \"blabla\")"
   ]
  },
  {
   "cell_type": "markdown",
   "metadata": {},
   "source": [
    "Voici 2 decorators (presque) identiques"
   ]
  },
  {
   "cell_type": "code",
   "execution_count": null,
   "metadata": {},
   "outputs": [],
   "source": [
    "def evening_greeting(func):\n",
    "    def function_wrapper():\n",
    "        print(\"Good evening mister \" + func.__name__)\n",
    "        func()\n",
    "    return function_wrapper\n",
    "\n",
    "def morning_greeting(func):\n",
    "    def function_wrapper():\n",
    "        print(\"Good morning mister \" + func.__name__ )\n",
    "        func()\n",
    "    return function_wrapper\n",
    "\n",
    "@evening_greeting\n",
    "def bond():\n",
    "    pass\n",
    "bond()\n",
    "\n",
    "@morning_greeting\n",
    "def bond():\n",
    "    pass\n",
    "\n",
    "bond()"
   ]
  },
  {
   "cell_type": "markdown",
   "metadata": {},
   "source": [
    "__Problème__ :   \n",
    "Le code est dupliqué et presque identique (morning vs evening)....  \n",
    "Pas bon !\n",
    "\n",
    "__Solution__ :   \n",
    "Il faudrait ajouter un parametre (hi) au décorateur afin de rendre le code + simple  \n",
    "\n",
    "C'est ce qui est fait dans le code qui suit :\n"
   ]
  },
  {
   "cell_type": "code",
   "execution_count": null,
   "metadata": {},
   "outputs": [],
   "source": [
    "def greeting(expr):\n",
    "    def greeting_decorator(func):\n",
    "        def function_wrapper():\n",
    "            print(expr + \" mister \" + func.__name__ )\n",
    "            func()\n",
    "        return function_wrapper\n",
    "    return greeting_decorator\n",
    "\n",
    "hi = \"Good evening \"\n",
    "@greeting(hi)\n",
    "def bond():\n",
    "    pass\n",
    "\n",
    "bond()\n",
    "\n",
    "\n",
    "hi = \"Good morning \"\n",
    "@greeting(hi)\n",
    "def bond():\n",
    "    pass\n",
    "\n",
    "bond()"
   ]
  },
  {
   "cell_type": "code",
   "execution_count": null,
   "metadata": {},
   "outputs": [],
   "source": [
    "# exercice :\n",
    "# 1) executer pas a pas\n",
    "# (copier coller dans un IDE)\n",
    "\n",
    "# 2) commenter le code\n",
    "\n",
    "# 3) écrire la pile d'appel (là où passe le code)\n",
    "# exemple de pile d'appel:\n",
    "# fonction1(arg = 0)\n",
    "# fonction2(arg = \"blabla\")"
   ]
  },
  {
   "cell_type": "markdown",
   "metadata": {},
   "source": [
    "#### 2) Decorateur de fonction implémentant une mémoire cache"
   ]
  },
  {
   "cell_type": "markdown",
   "metadata": {},
   "source": [
    "<img src = \"1.png\">"
   ]
  },
  {
   "cell_type": "markdown",
   "metadata": {},
   "source": [
    "En se basant sur le code du point précédent (nombre variable d'argument):"
   ]
  },
  {
   "cell_type": "code",
   "execution_count": 1,
   "metadata": {},
   "outputs": [],
   "source": [
    "def our_decorator(func):\n",
    "    def function_wrapper(*args):\n",
    "        print(\"Before calling \" + func.__name__)\n",
    "        res = func(*args)\n",
    "        print(res)\n",
    "        print(\"After calling \" + func.__name__)\n",
    "    return function_wrapper"
   ]
  },
  {
   "cell_type": "code",
   "execution_count": 2,
   "metadata": {},
   "outputs": [
    {
     "name": "stdout",
     "output_type": "stream",
     "text": [
      "Before calling function_wrapper\n",
      "Before calling foo\n",
      "None\n",
      "After calling foo\n",
      "None\n",
      "After calling function_wrapper\n",
      "None\n"
     ]
    }
   ],
   "source": [
    "@our_decorator\n",
    "def foo(arg1):\n",
    "    pass\n",
    "foo_ = our_decorator(foo)\n",
    "print (foo_(1))"
   ]
  },
  {
   "cell_type": "markdown",
   "metadata": {},
   "source": [
    "#### Décorateur mémoire cache\n",
    "En s'inspirant du code précédent, voici le pseudo-code d'un décorateur qui implémente une mémoire cache :  \n"
   ]
  },
  {
   "cell_type": "code",
   "execution_count": null,
   "metadata": {},
   "outputs": [],
   "source": [
    "def memoize(func):\n",
    "    cache = dict()\n",
    "\n",
    "    def memoized_func(*args):\n",
    "        # si arg dans le cache\n",
    "            # ne PAS refaire le calcul. \n",
    "            # Juste renvoyer la valeur stockée , c'est le principe du cache ;-)\n",
    "        # sinon faire calcul\n",
    "        cache[args] = \"faire le calcul ici (c'est le cas si données pas encore en cache)\"\n",
    "        #retourner resultat\n",
    "\n",
    "    return memoized_func"
   ]
  },
  {
   "cell_type": "code",
   "execution_count": null,
   "metadata": {},
   "outputs": [],
   "source": [
    "# exercice avancé : compléter le code précédent \n",
    "# ========= mémoire cache  ========\n",
    "\"\"\"\n",
    "def memoize(func):\n",
    "    cache = dict()\n",
    "\n",
    "    def memoized_func(args):\n",
    "        if args in cache:\n",
    "            return cache[args]\n",
    "        result = func(args)\n",
    "        cache[args] = result\n",
    "        return result\n",
    "\n",
    "    return memoized_func\n",
    "    \"\"\""
   ]
  },
  {
   "cell_type": "markdown",
   "metadata": {},
   "source": [
    "La suite de Fibonacci (https://en.wikipedia.org/wiki/Fibonacci_number)"
   ]
  },
  {
   "cell_type": "code",
   "execution_count": null,
   "metadata": {},
   "outputs": [],
   "source": [
    "# exercice écrire une fonction implémentant le calcul de la suite de Fibonacci\n",
    "# votre code ici\n",
    "def fibonacci(n):\n",
    "    # compléter ....\n",
    "    pass"
   ]
  },
  {
   "cell_type": "markdown",
   "metadata": {},
   "source": [
    "Calcul du temps d'exécution (en seconde)"
   ]
  },
  {
   "cell_type": "code",
   "execution_count": null,
   "metadata": {},
   "outputs": [],
   "source": [
    "import timeit\n",
    "timeit.timeit('fibonacci(35)', globals=globals(), number=1)"
   ]
  },
  {
   "cell_type": "markdown",
   "metadata": {},
   "source": [
    "Très lent ....  \n",
    "solution on utilise la mémoire cache à l'aide du décorateur \"memoize\""
   ]
  },
  {
   "cell_type": "code",
   "execution_count": null,
   "metadata": {},
   "outputs": [],
   "source": [
    "memoized_fibonacci = memoize(fibonacci)\n",
    "timeit.timeit('memoized_fibonacci(10)', globals=globals(), number=1)"
   ]
  },
  {
   "cell_type": "markdown",
   "metadata": {},
   "source": [
    "### 3) Solution de production (bien meilleure)  :\n",
    "@functools.lru_cache(maxsize = ...)"
   ]
  },
  {
   "cell_type": "code",
   "execution_count": 2,
   "metadata": {},
   "outputs": [],
   "source": [
    "#décorer la fonction de fibonacci\n",
    "import functools\n",
    "\n",
    "@functools.lru_cache(maxsize=128)\n",
    "def fibonacci(n):\n",
    "    # compléter ....\n",
    "    pass"
   ]
  },
  {
   "cell_type": "markdown",
   "metadata": {},
   "source": [
    "Autres :"
   ]
  },
  {
   "cell_type": "code",
   "execution_count": 3,
   "metadata": {},
   "outputs": [
    {
     "data": {
      "text/plain": [
       "CacheInfo(hits=0, misses=0, maxsize=128, currsize=0)"
      ]
     },
     "execution_count": 3,
     "metadata": {},
     "output_type": "execute_result"
    }
   ],
   "source": [
    "#fibonacci.cache_clear()\n",
    "fibonacci.cache_info()"
   ]
  },
  {
   "cell_type": "code",
   "execution_count": null,
   "metadata": {},
   "outputs": [],
   "source": []
  }
 ],
 "metadata": {
  "kernelspec": {
   "display_name": "Python 3",
   "language": "python",
   "name": "python3"
  },
  "language_info": {
   "codemirror_mode": {
    "name": "ipython",
    "version": 3
   },
   "file_extension": ".py",
   "mimetype": "text/x-python",
   "name": "python",
   "nbconvert_exporter": "python",
   "pygments_lexer": "ipython3",
   "version": "3.6.4"
  }
 },
 "nbformat": 4,
 "nbformat_minor": 2
}
