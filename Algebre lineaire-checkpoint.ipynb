{
 "cells": [
  {
   "cell_type": "markdown",
   "metadata": {},
   "source": [
    "## Vecteurs, matrices, algèbre linéaire\n"
   ]
  },
  {
   "cell_type": "markdown",
   "metadata": {},
   "source": [
    "Le but de ce notebook est de se familiariser avec l'algèbre linéaire. Et de poursuivre l'utilisation de numpy."
   ]
  },
  {
   "cell_type": "markdown",
   "metadata": {},
   "source": [
    "## Préliminaires sur l'algebre"
   ]
  },
  {
   "cell_type": "markdown",
   "metadata": {},
   "source": [
    "En mathématiques on aime bien regrouper les objets mathématiques par famille. Cela permettre des propriétés d'un objet juste en connaissant la famille auquel il appartient.\n",
    "\n",
    "Par exemple les nombres entiers naturels (positifs) ou les nombres rationnels (fractions) forment chacun une famille. \n",
    "\n",
    "Il existe d'autres familles comme les matrices, les fonctions linaires, les vecteurs et tout un tas de choses. \n",
    "\n",
    "Maintenant considérons la chose suivante : \n",
    "\n",
    "Quand vous additionnez deux nombres entiers, le résultat est un un nombre entier, n'est-ce pas ? Il est en de même quand vous multipliez deux nombres entiers. \n",
    "\n",
    "Inversement, quand vous divisez un nombre entier par un autre (10 / 3 par exemple), vous n'obtenez pas forcément un nombre entier.\n",
    "\n",
    "Ainsi pour une famille d'éléments donnée, il existe des manières de combiner les éléments dont le resultat est encore un membre de la famille. Il existe d'autres opérations dont le resultat n'est plus un membre de la famille.\n",
    "\n",
    "A peu de chose près, on appelle une famille d'éléments couplés à une opération qui conserve cette appartenance un monoïde. Ainsi les nombres entiers munis de l'opération d'addition (notée +) est un monoïd. \n"
   ]
  },
  {
   "cell_type": "markdown",
   "metadata": {},
   "source": [
    "Pour prouver qu'une propriété est vraie, on va se contenter de dire qu'une propriété est vraie si elle vraie pour des valeurs générées aléatoirement. "
   ]
  },
  {
   "cell_type": "markdown",
   "metadata": {},
   "source": [
    "coder la fonction is_number() qui retourne si objet est bien un nombre entier. "
   ]
  },
  {
   "cell_type": "code",
   "execution_count": null,
   "metadata": {},
   "outputs": [],
   "source": [
    "def is_number(x):\n",
    "    # a remplir\n",
    "    \n",
    "print(is_number(2), is_number(6), is_number(6.5))\n"
   ]
  },
  {
   "cell_type": "markdown",
   "metadata": {},
   "source": [
    "A l'aide de numpy.random coder une fonction génère des nombres alétoires entiers entre -10000 et + 10000."
   ]
  },
  {
   "cell_type": "code",
   "execution_count": null,
   "metadata": {},
   "outputs": [],
   "source": [
    "def generate_random_integer(n_number_to_generate):\n",
    "    # a remplir\n",
    "print(generate_random_number(10))"
   ]
  },
  {
   "cell_type": "markdown",
   "metadata": {},
   "source": [
    "Vérifier \"statistiquement\" que la multiplication de deux nombres entre 0 et 1 reste entre 0 et 1"
   ]
  },
  {
   "cell_type": "code",
   "execution_count": null,
   "metadata": {},
   "outputs": [],
   "source": []
  },
  {
   "cell_type": "markdown",
   "metadata": {},
   "source": [
    "## Vecteur "
   ]
  },
  {
   "cell_type": "markdown",
   "metadata": {},
   "source": [
    "On a vu que la combinaison de deux éléments d'une famille selon une opération pouvait ou non rester dans la famille originale. Mais peut-on généraliser cette notion à deux éléments ? La réponse est oui. Nous allons nous au cas des espaces vectoriels dont les membres sont des vecteurs. En plus d'être stable par une opération, on veut que quand on multiplie un élément de la famille par un nombre entier (réel), ce dernier reste dans la famille. "
   ]
  },
  {
   "cell_type": "markdown",
   "metadata": {},
   "source": [
    "Considérons la famille des tableaux 1D contenant 5 éléments. Avec numpy créer le un tableau 1D contenant (1, 1, 1, 1, 1)."
   ]
  },
  {
   "cell_type": "code",
   "execution_count": null,
   "metadata": {},
   "outputs": [],
   "source": []
  },
  {
   "cell_type": "markdown",
   "metadata": {},
   "source": [
    "Multiplier cet élément par 2, 6, $\\pi$"
   ]
  },
  {
   "cell_type": "code",
   "execution_count": null,
   "metadata": {},
   "outputs": [],
   "source": []
  },
  {
   "cell_type": "markdown",
   "metadata": {},
   "source": [
    "Proposer une opération (et la coder avec numpy) qui combine des vecteurs de taille 3 dont le resultat n'est pas un vecteur de taille trois"
   ]
  },
  {
   "cell_type": "code",
   "execution_count": null,
   "metadata": {},
   "outputs": [],
   "source": []
  },
  {
   "cell_type": "markdown",
   "metadata": {},
   "source": [
    "On voit que les éléments de la famille des tableau de dimension (quelque soit la taille) restent dans la famille quand on les additionne et quand on les multiplie par un nombre quelconque. Il s'agit donc d'un espace vectoriel et on appelera désormais ses éléments des vecteurs"
   ]
  },
  {
   "cell_type": "markdown",
   "metadata": {},
   "source": [
    "## Colinearité de vecteurs"
   ]
  },
  {
   "cell_type": "markdown",
   "metadata": {},
   "source": [
    "On dit que deux vecteurs v et w sont colinéaires si $w = \\alpha v$. Afficher le vecteur (1, 1) et le vecteur (-1, 1). Sont ils colinéaires ? Coder une fonction qui renvoie un booleen indiquant si deux vecteurs sont colinéaires où non"
   ]
  },
  {
   "cell_type": "code",
   "execution_count": null,
   "metadata": {},
   "outputs": [],
   "source": [
    "def are_vector_colinear(v1, v2)\n",
    "    #a remplir\n",
    "are_vector_colinear(np.array([1, 1, 1]), np.array([-1, 1, 1]))"
   ]
  },
  {
   "cell_type": "markdown",
   "metadata": {},
   "source": [
    "## Combinaison linéaire"
   ]
  },
  {
   "cell_type": "markdown",
   "metadata": {},
   "source": [
    "\n",
    "Si on considère une famille de vecteur $v_1, v_2, v_3, ..., v_n$ et suite une suite de nombe $a_1, a_2, ..., a_n$. On appelle combinaison linéaire le $vecteur$ $\\sum_i a_i v_i$. Coder la fonction `linear_comb` qui calcule la combinaison linéaire d'une famille de vecteur par une famille de nombre"
   ]
  },
  {
   "cell_type": "code",
   "execution_count": null,
   "metadata": {},
   "outputs": [],
   "source": [
    "def linear_comb(vector_familly, coeffcients):\n",
    "    # a remplir\n",
    "    "
   ]
  },
  {
   "cell_type": "markdown",
   "metadata": {},
   "source": [
    "Regarder les chapitres 1 à 3  : https://www.youtube.com/watch?v=kjBOesZCoqc&t=0s&index=1&list=PLZHQObOWTQDPD3MizzM2xVFitgF8hE_ab\n"
   ]
  },
  {
   "cell_type": "markdown",
   "metadata": {},
   "source": [
    "### Notions sur les bases (et non pas notions de base)"
   ]
  },
  {
   "cell_type": "markdown",
   "metadata": {},
   "source": [
    "Saviez-vous que tout nombre entier peut se décomper en produit de nombre premier ? Par exemple, $9 = 3^2$ et $45 = 3^2 * 2^2$. Cela veut dire qu'on peut en fait représenter tout nombre compliqué par des \"atome\" ou des nombres élémentaires simples. Pour les vecteurs c'est pareil, on peut toujours représenter un vecteur compliqué comme la combinaison de vecteurs simples"
   ]
  },
  {
   "cell_type": "markdown",
   "metadata": {},
   "source": []
  },
  {
   "cell_type": "markdown",
   "metadata": {},
   "source": [
    "On s'intéresse pour le moment aux vecteurs de dimension 2. Soit $v = (2, -1)$. Proposer une combinaison linéaire de vecteurs non colinéaires le resultat vaut $v$  "
   ]
  },
  {
   "cell_type": "markdown",
   "metadata": {},
   "source": [
    "## Matrices "
   ]
  },
  {
   "cell_type": "markdown",
   "metadata": {},
   "source": [
    "En première approximation on va considérer que les matrices sont simplement des tableaux 2D de nombres. \n",
    "Considérons \n",
    "\n",
    "$A = \\begin{pmatrix}\n",
    "   1 & 1 \\\\\n",
    "   1 & 1 \n",
    "\\end{pmatrix}$\n",
    "\n",
    "et \n",
    "\n",
    "$B = \\begin{pmatrix}\n",
    "   -1 & 1 \\\\\n",
    "   2 & 2 \n",
    "\\end{pmatrix}$\n",
    "\n"
   ]
  },
  {
   "cell_type": "markdown",
   "metadata": {},
   "source": [
    "Avec numpy.matmul caluler A * B, puis B * A"
   ]
  },
  {
   "cell_type": "code",
   "execution_count": null,
   "metadata": {},
   "outputs": [],
   "source": []
  },
  {
   "cell_type": "markdown",
   "metadata": {},
   "source": [
    "Avec l'opérateur * calculer $A * B$, puis $B * A$"
   ]
  },
  {
   "cell_type": "code",
   "execution_count": null,
   "metadata": {},
   "outputs": [],
   "source": []
  },
  {
   "cell_type": "markdown",
   "metadata": {},
   "source": [
    "Faire une fonction qui calculer la somme de toutes les valeurs d'un tableau\n"
   ]
  },
  {
   "cell_type": "code",
   "execution_count": null,
   "metadata": {},
   "outputs": [],
   "source": []
  },
  {
   "cell_type": "markdown",
   "metadata": {},
   "source": [
    "Faire une fonction qui calcule le produit d'une matrice et d'un vecteur"
   ]
  },
  {
   "cell_type": "markdown",
   "metadata": {},
   "source": [
    "Regarder les vidéos 4 et 5 de https://www.youtube.com/playlist?list=PLZHQObOWTQDPD3MizzM2xVFitgF8hE_ab"
   ]
  },
  {
   "cell_type": "markdown",
   "metadata": {},
   "source": [
    "## Matrice de rotations"
   ]
  },
  {
   "cell_type": "markdown",
   "metadata": {},
   "source": [
    "Afficher le vecteur $(1, 1, 1)$ et le multiplier par la matrice \n",
    "$\n",
    "\\begin{pmatrix}\n",
    "   cos(\\theta) & -sin(\\theta) \\\\\n",
    "   sin(\\theta) & cos(\\theta) \n",
    "\\end{pmatrix}\n",
    "$\n",
    "et le réafficher\n",
    "\n",
    "Faire une fonction qui retourne une matrice de rotation `create_rotation_matrix(theta)`"
   ]
  },
  {
   "cell_type": "code",
   "execution_count": 3,
   "metadata": {},
   "outputs": [
    {
     "ename": "SyntaxError",
     "evalue": "unexpected EOF while parsing (<ipython-input-3-4d67a678606f>, line 3)",
     "output_type": "error",
     "traceback": [
      "\u001b[0;36m  File \u001b[0;32m\"<ipython-input-3-4d67a678606f>\"\u001b[0;36m, line \u001b[0;32m3\u001b[0m\n\u001b[0;31m    \u001b[0m\n\u001b[0m    ^\u001b[0m\n\u001b[0;31mSyntaxError\u001b[0m\u001b[0;31m:\u001b[0m unexpected EOF while parsing\n"
     ]
    }
   ],
   "source": [
    "def create_rotation_matrix(theta):\n",
    "    # a completer\n",
    "    \n"
   ]
  },
  {
   "cell_type": "markdown",
   "metadata": {},
   "source": [
    "Multiplier le vecteur (1, 0) par la matrice de rotation définie par $\\theta = \\pi / 2$, afficher le vecteur original et après la rotation"
   ]
  },
  {
   "cell_type": "markdown",
   "metadata": {},
   "source": [
    "### Produit scalaire entre deux vecteurs."
   ]
  },
  {
   "cell_type": "markdown",
   "metadata": {},
   "source": [
    "Quand on dispose d'un vecteur, on peut définir une opération que l'on appelle un vecteur. Pour les éléments de $\\mathcal{R}^n$ (les tableau 1D de taille n) il s'agit simplement de la somme du produit deux à deux des éléments.\n",
    "\n",
    "On définit le produit scalaire entre v et w par $\\sum_i v_i * w_i$\n",
    "\n",
    "Faire une fonction `scalar_product` qui calcule le produit scalaire entre deux vecteurs v1 et v2"
   ]
  },
  {
   "cell_type": "code",
   "execution_count": null,
   "metadata": {},
   "outputs": [],
   "source": [
    "def scalar_product(v1, v2):\n",
    "    \"\"\"\n",
    "    \"\"\"\n",
    "\n",
    "v1 = np.array([0 1])\n",
    "v2 = np.array([1 0])\n",
    "scalar_product(v1, v2)"
   ]
  }
 ],
 "metadata": {
  "kernelspec": {
   "display_name": "Python 3",
   "language": "python",
   "name": "python3"
  },
  "language_info": {
   "codemirror_mode": {
    "name": "ipython",
    "version": 3
   },
   "file_extension": ".py",
   "mimetype": "text/x-python",
   "name": "python",
   "nbconvert_exporter": "python",
   "pygments_lexer": "ipython3",
   "version": "3.6.4"
  }
 },
 "nbformat": 4,
 "nbformat_minor": 2
}
