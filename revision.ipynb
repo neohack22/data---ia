{
 "cells": [
  {
   "cell_type": "code",
   "execution_count": 2,
   "metadata": {},
   "outputs": [],
   "source": [
    "import numpy as np"
   ]
  },
  {
   "cell_type": "markdown",
   "metadata": {},
   "source": [
    "# Révisions et approfondissement numpy"
   ]
  },
  {
   "cell_type": "markdown",
   "metadata": {},
   "source": [
    "## Abandonnez la boucle for quand c'est inutile, s'il vous plaît :'("
   ]
  },
  {
   "cell_type": "markdown",
   "metadata": {},
   "source": [
    "Définir deux vecteurs numpy $a = (a_1, ..., a_{100})$ et $b = (a_1, ..., a_n)$ de taille 100 avec les valeurs que vous voulez. Sans boucle `for` calculer $\\sum_{i=0}^{100} a_i * b_i$"
   ]
  },
  {
   "cell_type": "code",
   "execution_count": null,
   "metadata": {},
   "outputs": [],
   "source": [
    "import numpy as np"
   ]
  },
  {
   "cell_type": "markdown",
   "metadata": {},
   "source": [
    "Executer le code suivant. Que fait-il ? "
   ]
  },
  {
   "cell_type": "code",
   "execution_count": 4,
   "metadata": {},
   "outputs": [
    {
     "data": {
      "text/plain": [
       "array([[ 2,  4],\n",
       "       [ 6,  8],\n",
       "       [10, 12],\n",
       "       [14, 16]])"
      ]
     },
     "execution_count": 4,
     "metadata": {},
     "output_type": "execute_result"
    }
   ],
   "source": [
    "a = np.array([[1, 2], [3, 4], [5, 6], [7, 8]])\n",
    "b = np.array([2, 2])\n",
    "\n",
    "b * a\n"
   ]
  },
  {
   "cell_type": "markdown",
   "metadata": {},
   "source": [
    "Ce phénomène s'appelle le broadcasting. C'est très utile dans beaucoup de cas. Cela vous sert à un endroit dans le notebook sur la regression linéaire. Où ça ?"
   ]
  },
  {
   "cell_type": "markdown",
   "metadata": {},
   "source": [
    "En utilisant ce phénomène soustraire 2 à chaque élément de a"
   ]
  },
  {
   "cell_type": "code",
   "execution_count": null,
   "metadata": {},
   "outputs": [],
   "source": []
  },
  {
   "cell_type": "markdown",
   "metadata": {},
   "source": [
    "## Transposition"
   ]
  },
  {
   "cell_type": "markdown",
   "metadata": {},
   "source": [
    "Transposer une matrice c'est inverser ses lignes et ses colonnes. Toutes les matrices numpy ont l'attribut T permettant de transposer une matrice. Afficher la transposer de la matrice ci-dessous. Vous pouvez aussi chercher \"transpose matrix numpy\" si cet énoncer n'est pas clair."
   ]
  },
  {
   "cell_type": "code",
   "execution_count": 9,
   "metadata": {},
   "outputs": [],
   "source": [
    "a = np.array([[1, 2, 3], [4, 5, 6], [7, 8, 9]])"
   ]
  },
  {
   "cell_type": "code",
   "execution_count": null,
   "metadata": {},
   "outputs": [],
   "source": []
  },
  {
   "cell_type": "markdown",
   "metadata": {},
   "source": [
    "## Opération Sur les colonnes et sur les lignes."
   ]
  },
  {
   "cell_type": "markdown",
   "metadata": {},
   "source": [
    "calculer la moyenne de a avec numpy. Que cela fait-il ?"
   ]
  },
  {
   "cell_type": "code",
   "execution_count": null,
   "metadata": {},
   "outputs": [],
   "source": []
  },
  {
   "cell_type": "markdown",
   "metadata": {},
   "source": [
    "Maintenant supposez que vous souhaitiez faire une opération non pas sur tous les éléments mais colonne par colonne ou ligne par ligne. Vous pouvez utiliser sur les fonction de calcul numpy (np.mean, np.sum, np.max, etc.) l'argument `axis=0` (ligne par ligne) et `axis=1` (colonne par colonne). Utiliser deux fonctions pour faire une opération sur les lignes de a et les colonnes de a"
   ]
  },
  {
   "cell_type": "code",
   "execution_count": null,
   "metadata": {},
   "outputs": [],
   "source": []
  },
  {
   "cell_type": "markdown",
   "metadata": {},
   "source": [
    "## Différence multiplication matrice et terme à terme."
   ]
  },
  {
   "cell_type": "markdown",
   "metadata": {},
   "source": [
    "Définir deux matrices a et b. Calculer a * b et np.matmul(a, b). Quelle est la différence ?"
   ]
  },
  {
   "cell_type": "code",
   "execution_count": null,
   "metadata": {},
   "outputs": [],
   "source": []
  },
  {
   "cell_type": "markdown",
   "metadata": {},
   "source": [
    "Définir une matrice (3, 3) et un vecteur de taille 3 et créer une matrice en concaténant le vecteur et la matrice selon la colonne et ensuite selon les lignes."
   ]
  },
  {
   "cell_type": "code",
   "execution_count": null,
   "metadata": {},
   "outputs": [],
   "source": []
  }
 ],
 "metadata": {
  "kernelspec": {
   "display_name": "Python 3",
   "language": "python",
   "name": "python3"
  },
  "language_info": {
   "codemirror_mode": {
    "name": "ipython",
    "version": 3
   },
   "file_extension": ".py",
   "mimetype": "text/x-python",
   "name": "python",
   "nbconvert_exporter": "python",
   "pygments_lexer": "ipython3",
   "version": "3.6.4"
  }
 },
 "nbformat": 4,
 "nbformat_minor": 2
}
