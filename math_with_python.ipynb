{
 "cells": [
  {
   "cell_type": "markdown",
   "metadata": {},
   "source": [
    "# Mathématiques en codant\n",
    "\n",
    "Aujourd'hui et pendant probablement plusieurs séances, on va apprendre et revoir des maths en codant ! Les maths c'est cool, si si ! C'est juste qu'on ne vous l'avait pas dit. Il faut juste voir ça comme un langage. C'est un langage très pratique pour décrire de manière précise de nombreux phénomènes, notamment celui d'apprentissage. Alors haut les coeurs !\n",
    "\n",
    "On gardera bien en tête la distinction entre fonction informatique (procédure) et fonction mathématique\n"
   ]
  },
  {
   "cell_type": "markdown",
   "metadata": {},
   "source": [
    "## Fonction et dérivées"
   ]
  },
  {
   "cell_type": "markdown",
   "metadata": {},
   "source": [
    "Coder une fonction permettant de calculer $y = ax + b$"
   ]
  },
  {
   "cell_type": "code",
   "execution_count": 1,
   "metadata": {},
   "outputs": [],
   "source": [
    "def affine_function(a, b, x):\n",
    "    \"\"\"\n",
    "    \"\"\"\n",
    "    "
   ]
  },
  {
   "cell_type": "markdown",
   "metadata": {},
   "source": [
    "Utiliser affine_function pour remplir une liste  de valeur et le tracer en utilisant la librairie matplotlib. \n",
    "plt.plot(x,y) pour dessiner\n",
    "plt.show() pour afficher"
   ]
  },
  {
   "cell_type": "code",
   "execution_count": 2,
   "metadata": {},
   "outputs": [],
   "source": [
    "import matplotlib.pyplot as plt\n",
    "def showPlot(x, y):\n",
    "    plt.plot(x, y)\n",
    "    plt.show()\n"
   ]
  },
  {
   "cell_type": "markdown",
   "metadata": {},
   "source": [
    "Faire de même pour une fonciton polynomiale $y = ax^2 + bx + c$"
   ]
  },
  {
   "cell_type": "code",
   "execution_count": 3,
   "metadata": {},
   "outputs": [],
   "source": [
    "def polynome(arguments):\n",
    "    \"\"\"\n",
    "    \"\"\""
   ]
  },
  {
   "cell_type": "markdown",
   "metadata": {},
   "source": [
    "afficher le polynome $-x^2$. On pourra soit définir une autre fonction polynome. Soit faire une fonction polynome_generator(a,b,c) qui retourne une fonction."
   ]
  },
  {
   "cell_type": "code",
   "execution_count": null,
   "metadata": {},
   "outputs": [],
   "source": []
  },
  {
   "cell_type": "markdown",
   "metadata": {},
   "source": [
    "Si on dispose de deux points on peut tracer une droite. A l'aide de matplotlib coder la fonction draw_line_between_points qui trace une droite en deux points ayant pour coordonnée p1 et p2"
   ]
  },
  {
   "cell_type": "code",
   "execution_count": 4,
   "metadata": {},
   "outputs": [
    {
     "ename": "SyntaxError",
     "evalue": "unexpected EOF while parsing (<ipython-input-4-b44b1a86ed01>, line 2)",
     "output_type": "error",
     "traceback": [
      "\u001b[1;36m  File \u001b[1;32m\"<ipython-input-4-b44b1a86ed01>\"\u001b[1;36m, line \u001b[1;32m2\u001b[0m\n\u001b[1;33m    \u001b[0m\n\u001b[1;37m    ^\u001b[0m\n\u001b[1;31mSyntaxError\u001b[0m\u001b[1;31m:\u001b[0m unexpected EOF while parsing\n"
     ]
    }
   ],
   "source": []
  },
  {
   "cell_type": "code",
   "execution_count": null,
   "metadata": {},
   "outputs": [],
   "source": []
  },
  {
   "cell_type": "markdown",
   "metadata": {},
   "source": [
    "Coder la fonction variation_rate qui calcule le taux de variation d'une fonction à un point donné. $variation = \\frac{f(x+h) - f(x)}{h}$. Cette fonction variation_rate prendra pour argument une fonction f sur laquelle calculer le taux de variation, le point x et h."
   ]
  },
  {
   "cell_type": "code",
   "execution_count": 5,
   "metadata": {},
   "outputs": [],
   "source": [
    "def variation_rate(f, x, h):\n",
    "    return (f(x+h)-f(x))/h"
   ]
  },
  {
   "cell_type": "markdown",
   "metadata": {},
   "source": [
    "Calculer le taux de variation pour h=0.1 avec x = 1, 2 et 4. Faire de même avec le polynôme $f(x) = -x^2$. Commenter"
   ]
  },
  {
   "cell_type": "code",
   "execution_count": null,
   "metadata": {},
   "outputs": [],
   "source": []
  },
  {
   "cell_type": "markdown",
   "metadata": {},
   "source": [
    "Ecrire une fonction qui test si f(x1) est plus grand ou moins grande que f(x2)"
   ]
  },
  {
   "cell_type": "code",
   "execution_count": null,
   "metadata": {},
   "outputs": [],
   "source": [
    "def is_higher(f, x1, x2):\n",
    "    \"\"\"\n",
    "    \"\"\""
   ]
  },
  {
   "cell_type": "markdown",
   "metadata": {},
   "source": [
    "Un des grands but du Machine Learning est de trouver le minimum de fonctions. En effet, on veut minimiser l'erreur de notre modèle.  En général ces fonctions sont très compliquées et on ne peut pas calculer leur valeur pour beaucoup de point comme on le fait pour des fonction simple comme des polynome. Par contre on connait souvent leur valeur. On va ici utiliser la fonction variation_rate pour descendre le long des pentes comme au ski. A l'aide de la fonction variation_rate faire une fonction retourne un point x' tel que x' < x."
   ]
  },
  {
   "cell_type": "code",
   "execution_count": 14,
   "metadata": {},
   "outputs": [],
   "source": [
    "def lower_point(f, x, h):\n",
    "    xprime = x\n",
    "    cpt=0\n",
    "    while(cpt<100):\n",
    "        cpt+=1\n",
    "        if (variation_rate(f, xprime, h) < 0):\n",
    "            xprime = xprime+h\n",
    "            print(\"x:\", xprime)\n",
    "        elif (variation_rate(f, xprime, h) > 0):\n",
    "            xprime = xprime-h\n",
    "            print(\"x:\", xprime)\n",
    "        else:\n",
    "            break"
   ]
  },
  {
   "cell_type": "markdown",
   "metadata": {},
   "source": [
    "En partant de x = 4. utiliser la fonction lower_point pour descendre le long de la fonction $f(x) = x²$. Stocker les différents x et l'afficher en rouge au dessus du polynome"
   ]
  },
  {
   "cell_type": "code",
   "execution_count": 15,
   "metadata": {},
   "outputs": [
    {
     "name": "stdout",
     "output_type": "stream",
     "text": [
      "x: 3.9\n",
      "x: 3.8\n",
      "x: 3.6999999999999997\n",
      "x: 3.5999999999999996\n",
      "x: 3.4999999999999996\n",
      "x: 3.3999999999999995\n",
      "x: 3.2999999999999994\n",
      "x: 3.1999999999999993\n",
      "x: 3.099999999999999\n",
      "x: 2.999999999999999\n",
      "x: 2.899999999999999\n",
      "x: 2.799999999999999\n",
      "x: 2.699999999999999\n",
      "x: 2.5999999999999988\n",
      "x: 2.4999999999999987\n",
      "x: 2.3999999999999986\n",
      "x: 2.2999999999999985\n",
      "x: 2.1999999999999984\n",
      "x: 2.0999999999999983\n",
      "x: 1.9999999999999982\n",
      "x: 1.8999999999999981\n",
      "x: 1.799999999999998\n",
      "x: 1.699999999999998\n",
      "x: 1.5999999999999979\n",
      "x: 1.4999999999999978\n",
      "x: 1.3999999999999977\n",
      "x: 1.2999999999999976\n",
      "x: 1.1999999999999975\n",
      "x: 1.0999999999999974\n",
      "x: 0.9999999999999974\n",
      "x: 0.8999999999999975\n",
      "x: 0.7999999999999975\n",
      "x: 0.6999999999999975\n",
      "x: 0.5999999999999975\n",
      "x: 0.49999999999999756\n",
      "x: 0.3999999999999976\n",
      "x: 0.2999999999999976\n",
      "x: 0.1999999999999976\n",
      "x: 0.09999999999999759\n",
      "x: -2.4147350785597155e-15\n",
      "x: -0.10000000000000242\n",
      "x: -2.4147350785597155e-15\n",
      "x: -0.10000000000000242\n",
      "x: -2.4147350785597155e-15\n",
      "x: -0.10000000000000242\n",
      "x: -2.4147350785597155e-15\n",
      "x: -0.10000000000000242\n",
      "x: -2.4147350785597155e-15\n",
      "x: -0.10000000000000242\n",
      "x: -2.4147350785597155e-15\n",
      "x: -0.10000000000000242\n",
      "x: -2.4147350785597155e-15\n",
      "x: -0.10000000000000242\n",
      "x: -2.4147350785597155e-15\n",
      "x: -0.10000000000000242\n",
      "x: -2.4147350785597155e-15\n",
      "x: -0.10000000000000242\n",
      "x: -2.4147350785597155e-15\n",
      "x: -0.10000000000000242\n",
      "x: -2.4147350785597155e-15\n",
      "x: -0.10000000000000242\n",
      "x: -2.4147350785597155e-15\n",
      "x: -0.10000000000000242\n",
      "x: -2.4147350785597155e-15\n",
      "x: -0.10000000000000242\n",
      "x: -2.4147350785597155e-15\n",
      "x: -0.10000000000000242\n",
      "x: -2.4147350785597155e-15\n",
      "x: -0.10000000000000242\n",
      "x: -2.4147350785597155e-15\n",
      "x: -0.10000000000000242\n",
      "x: -2.4147350785597155e-15\n",
      "x: -0.10000000000000242\n",
      "x: -2.4147350785597155e-15\n",
      "x: -0.10000000000000242\n",
      "x: -2.4147350785597155e-15\n",
      "x: -0.10000000000000242\n",
      "x: -2.4147350785597155e-15\n",
      "x: -0.10000000000000242\n",
      "x: -2.4147350785597155e-15\n",
      "x: -0.10000000000000242\n",
      "x: -2.4147350785597155e-15\n",
      "x: -0.10000000000000242\n",
      "x: -2.4147350785597155e-15\n",
      "x: -0.10000000000000242\n",
      "x: -2.4147350785597155e-15\n",
      "x: -0.10000000000000242\n",
      "x: -2.4147350785597155e-15\n",
      "x: -0.10000000000000242\n",
      "x: -2.4147350785597155e-15\n",
      "x: -0.10000000000000242\n",
      "x: -2.4147350785597155e-15\n",
      "x: -0.10000000000000242\n",
      "x: -2.4147350785597155e-15\n",
      "x: -0.10000000000000242\n",
      "x: -2.4147350785597155e-15\n",
      "x: -0.10000000000000242\n",
      "x: -2.4147350785597155e-15\n",
      "x: -0.10000000000000242\n",
      "x: -2.4147350785597155e-15\n"
     ]
    }
   ],
   "source": [
    "lower_point(lambda x:x**2, 4, 0.1)"
   ]
  },
  {
   "cell_type": "markdown",
   "metadata": {},
   "source": [
    "## Listes"
   ]
  },
  {
   "cell_type": "markdown",
   "metadata": {},
   "source": [
    "Coder une fonction multiply_liste qui prend en argument une liste et retourne une liste dont tous les éléments sont multiplié par un coefficient $\\alpha$"
   ]
  },
  {
   "cell_type": "code",
   "execution_count": 16,
   "metadata": {},
   "outputs": [],
   "source": [
    "def multiply_liste(l, alpha):\n",
    "    return [x*alpha for x in l]"
   ]
  },
  {
   "cell_type": "code",
   "execution_count": 17,
   "metadata": {},
   "outputs": [
    {
     "data": {
      "text/plain": [
       "[0, 3, 6, 9, 12]"
      ]
     },
     "execution_count": 17,
     "metadata": {},
     "output_type": "execute_result"
    }
   ],
   "source": [
    "x=range(5)\n",
    "multiply_liste(x,3)"
   ]
  },
  {
   "cell_type": "markdown",
   "metadata": {},
   "source": [
    "Coder une fonction add_lists qui prend en argument deux listes l1 et l2 et qui retourne la somme des deux"
   ]
  },
  {
   "cell_type": "code",
   "execution_count": 18,
   "metadata": {},
   "outputs": [],
   "source": [
    "def add_lists(l1, l2):\n",
    "    return [x+y for x, y in zip(l1,l2)]"
   ]
  },
  {
   "cell_type": "code",
   "execution_count": 21,
   "metadata": {},
   "outputs": [
    {
     "data": {
      "text/plain": [
       "[-3.0, 1.5, 6.0, 10.5, 15.0, 19.5, 24.0, 28.5, 33.0, 37.5]"
      ]
     },
     "execution_count": 21,
     "metadata": {},
     "output_type": "execute_result"
    }
   ],
   "source": [
    "l1=[2*x-3 for x in range(10)]\n",
    "l2=[x*2.5 for x in range(10)]\n",
    "add_lists(l1,l2)"
   ]
  },
  {
   "cell_type": "markdown",
   "metadata": {},
   "source": [
    "## Un peu de géométrie"
   ]
  },
  {
   "cell_type": "markdown",
   "metadata": {},
   "source": [
    "On considère les points aux coordonnées suivantes :\n",
    "- A: (1, 1)\n",
    "- B: (2, 2)\n",
    "- C: (1, 2)\n",
    "\n",
    "En utilisant matplotlib, tracer le triangle formé par ces points."
   ]
  },
  {
   "cell_type": "code",
   "execution_count": 22,
   "metadata": {},
   "outputs": [
    {
     "data": {
      "image/png": "[encoded data removed]",
      "text/plain": [
       "<matplotlib.figure.Figure at 0x16af0e39c88>"
      ]
     },
     "metadata": {},
     "output_type": "display_data"
    }
   ],
   "source": [
    "showPlot([1,2,1,1], [1,2,2,1])"
   ]
  },
  {
   "cell_type": "markdown",
   "metadata": {},
   "source": [
    "Calculer la distance entre A et B en utilisant pythagore. Faire une fonction qui calcule la distance entre deux points"
   ]
  },
  {
   "cell_type": "code",
   "execution_count": 23,
   "metadata": {},
   "outputs": [],
   "source": [
    "import math\n",
    "def euclidian_distance(p1, p2):\n",
    "    return math.sqrt((p1.x-p2.x)**2+(p1.y-p2.y)**2)"
   ]
  },
  {
   "cell_type": "markdown",
   "metadata": {},
   "source": [
    "Bon maintenant un point dans l'espace, Il a trois coordonnées (x1, y1, z1) et (x2, y2, z2). Ecrire une fonction euclidian_distance pour la 3D"
   ]
  },
  {
   "cell_type": "code",
   "execution_count": 24,
   "metadata": {},
   "outputs": [],
   "source": [
    "def euclidian_distance3D(p1, p2):\n",
    "    return math.sqrt((p1.x-p2.x)**2+(p1.y-p2.y)**2+(p1.z-p2.z)**2)"
   ]
  },
  {
   "cell_type": "markdown",
   "metadata": {},
   "source": [
    "Et si on imaginez qu'il puisse avoir autant de dimension qu'on veut ? "
   ]
  },
  {
   "cell_type": "code",
   "execution_count": 25,
   "metadata": {},
   "outputs": [],
   "source": [
    "class Point:\n",
    "    def __init__(self, coords):\n",
    "        self.coords = coords"
   ]
  },
  {
   "cell_type": "code",
   "execution_count": 26,
   "metadata": {},
   "outputs": [],
   "source": [
    "def euclidien_distanceND(p1, p2):\n",
    "    d = 0\n",
    "    for i in range(len(p1.coords)):\n",
    "        d+=(p1.coords[i]-p2.coords[i])**2\n",
    "    return math.sqrt(d)"
   ]
  },
  {
   "cell_type": "markdown",
   "metadata": {},
   "source": [
    "## Les lois de probabilités\n",
    "\n",
    "Qu'est ce que le hasard ? Est-ce simplement le reflet de notre ignorance ou est ce un phénomène qui existe vraiment ? Dieu joue-t-il au dé ? Nous ne répondrons pas à ces questions dans ce notebook. Néanmoins la notions de probabilités et l'arsenal mathématique qui l'accompagne nous sera très utile. Nous allons les introduire par la pratique. Par la même occasion nous commencerons à manipuler la librairy numpy.\n"
   ]
  },
  {
   "cell_type": "markdown",
   "metadata": {},
   "source": [
    "### Introduction à numpy"
   ]
  },
  {
   "cell_type": "markdown",
   "metadata": {},
   "source": [
    "On a vu qu'utiliser des listes pour manipuler des séries de nombres (vecteurs) n'était pas très pratique. A chaque opération qui nous intéresse on est obligé de faire des boucles. Il existe une librairie qui s'appelle numpy qui facilite grandement la manipulation de nombre. Comme vous avez peut être remarqué pour importer une librairie on utilise l'instruction import. Si vous regardez comment matplotlib a été importé vous remarquerez la présence du mot clé \"as\". Il s'agit d'un alias permettant de raccourcir le nom de la fonction. importer numpy avec l'alias np"
   ]
  },
  {
   "cell_type": "markdown",
   "metadata": {},
   "source": [
    "A l'aide de la fonction np.ones définir un vecteur remplis de taille 10 et l'affichier"
   ]
  },
  {
   "cell_type": "code",
   "execution_count": 84,
   "metadata": {},
   "outputs": [],
   "source": [
    "import numpy as np\n",
    "v=np.ones(10)"
   ]
  },
  {
   "cell_type": "markdown",
   "metadata": {},
   "source": [
    "Multiplier ce vecteur par 2 et l'afficher. "
   ]
  },
  {
   "cell_type": "code",
   "execution_count": 85,
   "metadata": {},
   "outputs": [
    {
     "data": {
      "text/plain": [
       "array([2., 2., 2., 2., 2., 2., 2., 2., 2., 2.])"
      ]
     },
     "execution_count": 85,
     "metadata": {},
     "output_type": "execute_result"
    }
   ],
   "source": [
    "v*2"
   ]
  },
  {
   "cell_type": "markdown",
   "metadata": {},
   "source": [
    "Définir un second vecteur et faire leur somme et leur multiplication. "
   ]
  },
  {
   "cell_type": "code",
   "execution_count": 86,
   "metadata": {},
   "outputs": [
    {
     "name": "stdout",
     "output_type": "stream",
     "text": [
      "[ 1.  2.  3.  4.  5.  6.  7.  8.  9. 10.]\n",
      "[0. 1. 2. 3. 4. 5. 6. 7. 8. 9.]\n"
     ]
    }
   ],
   "source": [
    "v2=range(10)\n",
    "s=v+v2\n",
    "print(s)\n",
    "m=v*v2\n",
    "print(m)"
   ]
  },
  {
   "cell_type": "code",
   "execution_count": 87,
   "metadata": {},
   "outputs": [
    {
     "data": {
      "text/plain": [
       "array([1., 1., 1., 1., 1., 1., 1., 1., 1., 1.])"
      ]
     },
     "execution_count": 87,
     "metadata": {},
     "output_type": "execute_result"
    }
   ],
   "source": [
    "v"
   ]
  },
  {
   "cell_type": "code",
   "execution_count": 88,
   "metadata": {},
   "outputs": [
    {
     "data": {
      "text/plain": [
       "range(0, 10)"
      ]
     },
     "execution_count": 88,
     "metadata": {},
     "output_type": "execute_result"
    }
   ],
   "source": [
    "v2"
   ]
  },
  {
   "cell_type": "code",
   "execution_count": 89,
   "metadata": {},
   "outputs": [
    {
     "data": {
      "text/plain": [
       "[1.0, 2.0, 3.0, 4.0, 5.0, 6.0, 7.0, 8.0, 9.0, 10.0]"
      ]
     },
     "execution_count": 89,
     "metadata": {},
     "output_type": "execute_result"
    }
   ],
   "source": [
    "[x+y for x, y in zip(v,v2)]"
   ]
  },
  {
   "cell_type": "markdown",
   "metadata": {},
   "source": [
    "On va simuler le jeté de dé. A l'aide de la fonction numpy.random.randint qui crée un vecteur de nombre aléatoire compris entre une limite basse et une limite haute, créer un vecteur remplis aléatoirement de 0 et 1 de taille n"
   ]
  },
  {
   "cell_type": "code",
   "execution_count": 48,
   "metadata": {},
   "outputs": [],
   "source": [
    "def flip_coin(number_of_flip):\n",
    "    return np.random.randint(2,size=number_of_flip)"
   ]
  },
  {
   "cell_type": "markdown",
   "metadata": {},
   "source": [
    "### Indexation et masks en numpy"
   ]
  },
  {
   "cell_type": "markdown",
   "metadata": {},
   "source": [
    "executer les lignes suivantes et expliquer brievement ce qu'elles font"
   ]
  },
  {
   "cell_type": "code",
   "execution_count": 35,
   "metadata": {},
   "outputs": [
    {
     "name": "stdout",
     "output_type": "stream",
     "text": [
      "[1 2]\n",
      "[3 0]\n",
      "[0 1 2]\n"
     ]
    }
   ],
   "source": [
    "a = np.array([1, 2, 3, 0, 0, 1, 2])\n",
    "print(a[:2])\n",
    "print(a[2:4])\n",
    "print(a[4:])"
   ]
  },
  {
   "cell_type": "code",
   "execution_count": null,
   "metadata": {},
   "outputs": [],
   "source": [
    "## sous listes"
   ]
  },
  {
   "cell_type": "markdown",
   "metadata": {},
   "source": [
    "Executer les lignes suivantes et expliquer à quoi ça sert: "
   ]
  },
  {
   "cell_type": "code",
   "execution_count": 36,
   "metadata": {},
   "outputs": [
    {
     "name": "stdout",
     "output_type": "stream",
     "text": [
      "[ True  True  True False False  True  True]\n",
      "[1 2 3 1 2]\n"
     ]
    }
   ],
   "source": [
    "mask = a > 0\n",
    "print(mask)\n",
    "print(a[mask])"
   ]
  },
  {
   "cell_type": "markdown",
   "metadata": {},
   "source": [
    "Faire une fonction qui calcule la proportion de 0 et de 1."
   ]
  },
  {
   "cell_type": "code",
   "execution_count": 151,
   "metadata": {},
   "outputs": [],
   "source": [
    "def one_and_zero_rate(vector_of_flip):\n",
    "    c = collections.Counter(vector_of_flip)\n",
    "    return c[0]/len(vector_of_flip)"
   ]
  },
  {
   "cell_type": "markdown",
   "metadata": {},
   "source": [
    "Calculer sur un vecteur de taille 10. Remarques ?"
   ]
  },
  {
   "cell_type": "code",
   "execution_count": 152,
   "metadata": {},
   "outputs": [
    {
     "data": {
      "text/plain": [
       "array([1, 1, 0, 1, 1, 1, 0, 0, 1, 0])"
      ]
     },
     "execution_count": 152,
     "metadata": {},
     "output_type": "execute_result"
    }
   ],
   "source": [
    "flip_coin(10)"
   ]
  },
  {
   "cell_type": "code",
   "execution_count": 153,
   "metadata": {},
   "outputs": [
    {
     "name": "stdout",
     "output_type": "stream",
     "text": [
      "[1 0 0 1 1 0 0 0 0 0]\n"
     ]
    },
    {
     "data": {
      "text/plain": [
       "0.7"
      ]
     },
     "execution_count": 153,
     "metadata": {},
     "output_type": "execute_result"
    }
   ],
   "source": [
    "a = flip_coin(10)\n",
    "print(a)\n",
    "one_and_zero_rate(a)"
   ]
  },
  {
   "cell_type": "markdown",
   "metadata": {},
   "source": [
    "Calculer le taux de 0 pour un vecteur de taille 1000. "
   ]
  },
  {
   "cell_type": "code",
   "execution_count": 154,
   "metadata": {},
   "outputs": [],
   "source": [
    "v=one_and_zero_rate(flip_coin(1000))"
   ]
  },
  {
   "cell_type": "markdown",
   "metadata": {},
   "source": [
    "Calculer la moyenne de ce vecteur"
   ]
  },
  {
   "cell_type": "code",
   "execution_count": 155,
   "metadata": {},
   "outputs": [
    {
     "data": {
      "text/plain": [
       "0.522"
      ]
     },
     "execution_count": 155,
     "metadata": {},
     "output_type": "execute_result"
    }
   ],
   "source": [
    "np.mean(v)"
   ]
  },
  {
   "cell_type": "markdown",
   "metadata": {},
   "source": [
    "Calculer la variance de la somme"
   ]
  },
  {
   "cell_type": "code",
   "execution_count": 54,
   "metadata": {},
   "outputs": [],
   "source": [
    "def variance(n):\n",
    "    return np.std(n)"
   ]
  },
  {
   "cell_type": "markdown",
   "metadata": {},
   "source": [
    "Afficher ces écarts sur un histogram. Ohoh, cela vous-fait-il penser à quelque chose ?"
   ]
  },
  {
   "cell_type": "code",
   "execution_count": 55,
   "metadata": {},
   "outputs": [
    {
     "data": {
      "text/plain": [
       "0.4989098114890104"
      ]
     },
     "execution_count": 55,
     "metadata": {},
     "output_type": "execute_result"
    }
   ],
   "source": [
    "variance(flip_coin(1000))"
   ]
  },
  {
   "cell_type": "markdown",
   "metadata": {},
   "source": [
    "## Des statistiques sur du texte"
   ]
  },
  {
   "cell_type": "markdown",
   "metadata": {},
   "source": [
    "Faire une fonction qui retourne un dictionnaire comptant l'occurance de chaque mot dans une chaine de caractère. Conseil utiliser l'object Counter de la librairie collection."
   ]
  },
  {
   "cell_type": "code",
   "execution_count": 118,
   "metadata": {},
   "outputs": [],
   "source": [
    "f=open(\"legorafi.txt\")\n",
    "def count_words(text):\n",
    "    c= collections.Counter(text.split())\n",
    "    return c\n",
    "c = count_words(f.read())"
   ]
  },
  {
   "cell_type": "code",
   "execution_count": 123,
   "metadata": {},
   "outputs": [
    {
     "data": {
      "text/plain": [
       "Counter({':': 1,\n",
       "         ';': 1,\n",
       "         'Aujourdâ€™hui,': 1,\n",
       "         'Beaux-Arts': 1,\n",
       "         'Câ€™est': 1,\n",
       "         'Câ€™Ã©tait': 1,\n",
       "         'Elizabeth,': 1,\n",
       "         'En': 1,\n",
       "         'Le': 2,\n",
       "         'LycÃ©e,': 1,\n",
       "         'Michel': 1,\n",
       "         'On': 1,\n",
       "         'Pour': 2,\n",
       "         'Pourtant,': 1,\n",
       "         'Quand': 1,\n",
       "         'RER': 1,\n",
       "         'S': 2,\n",
       "         'Steve': 4,\n",
       "         'Steve,': 1,\n",
       "         'Steve.': 1,\n",
       "         'Un': 1,\n",
       "         'Xanax.': 1,\n",
       "         'a': 2,\n",
       "         'affinitÃ©': 1,\n",
       "         'affronter': 1,\n",
       "         'air': 1,\n",
       "         'alors': 1,\n",
       "         'artistiques.': 1,\n",
       "         'aucune': 1,\n",
       "         'aujourdâ€™hui': 1,\n",
       "         'autre': 1,\n",
       "         'avaient': 1,\n",
       "         'avalant': 1,\n",
       "         'avec': 2,\n",
       "         'aÃ®nÃ©': 1,\n",
       "         'beau': 1,\n",
       "         'carriÃ¨re': 1,\n",
       "         'ce': 2,\n",
       "         'certain': 1,\n",
       "         'cet': 1,\n",
       "         'cette': 2,\n",
       "         'choix': 2,\n",
       "         'classe': 1,\n",
       "         'clochard': 1,\n",
       "         'comme': 1,\n",
       "         'commerce': 1,\n",
       "         'complÃ¨tement': 1,\n",
       "         'confie': 2,\n",
       "         'coule': 1,\n",
       "         'câ€™est': 1,\n",
       "         'câ€™Ã©tait': 1,\n",
       "         'dangereuses': 1,\n",
       "         'dans': 3,\n",
       "         'de': 15,\n",
       "         'des': 1,\n",
       "         'dessinateur,': 1,\n",
       "         'deux': 2,\n",
       "         'deuxiÃ¨me': 1,\n",
       "         'devienne': 1,\n",
       "         'devrait': 1,\n",
       "         'disant': 1,\n",
       "         'disent': 1,\n",
       "         'dont': 1,\n",
       "         'du': 2,\n",
       "         'dÃ©cide': 1,\n",
       "         'dÃ©couragÃ©': 1,\n",
       "         'dâ€™ailleurs': 2,\n",
       "         'dâ€™avance': 1,\n",
       "         'dâ€™embrasser': 1,\n",
       "         'dâ€™intÃ©grer': 1,\n",
       "         'dâ€™Ãªtre': 1,\n",
       "         'effet,': 1,\n",
       "         'en': 4,\n",
       "         'encore': 1,\n",
       "         'enfants': 1,\n",
       "         'enfin': 1,\n",
       "         'ennuyeuse': 1,\n",
       "         'et': 6,\n",
       "         'eux,': 1,\n",
       "         'existence': 1,\n",
       "         'faire': 3,\n",
       "         'faire.': 1,\n",
       "         'fait': 2,\n",
       "         'famille,': 1,\n",
       "         'finirait': 1,\n",
       "         'finit': 1,\n",
       "         'gagnÃ©e': 1,\n",
       "         'grisÃ¢tre': 1,\n",
       "         'il': 4,\n",
       "         'ils': 1,\n",
       "         'important': 1,\n",
       "         'intÃ©grer': 1,\n",
       "         'jour': 2,\n",
       "         'la': 5,\n",
       "         'lambda,': 1,\n",
       "         'larme': 1,\n",
       "         'le': 7,\n",
       "         'lequel': 1,\n",
       "         'les': 3,\n",
       "         'loin': 1,\n",
       "         'long': 1,\n",
       "         'lorsquâ€™il': 1,\n",
       "         'lui': 1,\n",
       "         'lui.': 1,\n",
       "         'lâ€™a': 2,\n",
       "         'lâ€™intÃ©ressÃ©': 1,\n",
       "         'ma': 1,\n",
       "         'mais': 1,\n",
       "         'manifeste': 1,\n",
       "         'marier': 1,\n",
       "         'mine': 1,\n",
       "         'moment': 1,\n",
       "         'monde': 1,\n",
       "         'monotonie': 1,\n",
       "         'motivation': 1,\n",
       "         'moule': 1,\n",
       "         'mÃ¨re': 1,\n",
       "         'mÃ©tier': 1,\n",
       "         'ne': 2,\n",
       "         'nous': 2,\n",
       "         'nul': 1,\n",
       "         'nâ€™a': 1,\n",
       "         'nâ€™est': 1,\n",
       "         'obligÃ©': 1,\n",
       "         'on': 3,\n",
       "         'ont': 1,\n",
       "         'oÃ¹': 2,\n",
       "         'par': 2,\n",
       "         'parent': 1,\n",
       "         'parents': 2,\n",
       "         'parents.': 1,\n",
       "         'partie': 1,\n",
       "         'partir': 1,\n",
       "         'pas': 2,\n",
       "         'payer.': 1,\n",
       "         'personne': 1,\n",
       "         'peu': 1,\n",
       "         'peu,': 1,\n",
       "         'pieds': 1,\n",
       "         'place,': 1,\n",
       "         'plus': 2,\n",
       "         'porte': 1,\n",
       "         'pour': 5,\n",
       "         'premiÃ¨re': 1,\n",
       "         'puis': 1,\n",
       "         'que': 4,\n",
       "         'qui': 1,\n",
       "         'quâ€™apparaÃ®t': 1,\n",
       "         'quâ€™au': 1,\n",
       "         'quâ€™il': 7,\n",
       "         'quâ€™ils': 1,\n",
       "         'rangÃ©e': 1,\n",
       "         'regrette': 1,\n",
       "         'rentrant': 1,\n",
       "         'rentre': 1,\n",
       "         'rÃ©alise.': 1,\n",
       "         'rÃ©signÃ©': 1,\n",
       "         'rÃ©siste,': 1,\n",
       "         'rÃªve': 1,\n",
       "         'rÃªvÃ©': 2,\n",
       "         'sa': 3,\n",
       "         'sape': 1,\n",
       "         'se': 4,\n",
       "         'seconde,': 1,\n",
       "         'sens.': 1,\n",
       "         'sentira': 1,\n",
       "         'ses': 2,\n",
       "         'son': 2,\n",
       "         'sur': 1,\n",
       "         'sÃ»r': 1,\n",
       "         't-elle.': 1,\n",
       "         'talent': 1,\n",
       "         'terminale': 1,\n",
       "         'toujours': 2,\n",
       "         'tout': 2,\n",
       "         'toute': 1,\n",
       "         'travail': 1,\n",
       "         'travail.': 1,\n",
       "         'travaille': 1,\n",
       "         'traÃ®ne': 1,\n",
       "         'un': 3,\n",
       "         'une': 6,\n",
       "         'univers': 1,\n",
       "         'vellÃ©itÃ©s': 1,\n",
       "         'vide': 1,\n",
       "         'vie': 2,\n",
       "         'vie!': 1,\n",
       "         'vient': 1,\n",
       "         'visage': 2,\n",
       "         'vive': 2,\n",
       "         'vu': 1,\n",
       "         'Â«': 4,\n",
       "         'Â»': 3,\n",
       "         'Â»,': 1,\n",
       "         'Ã': 4,\n",
       "         'Ã©cole': 1,\n",
       "         'Ã©panouis': 1,\n",
       "         'Ã©tait': 2})"
      ]
     },
     "execution_count": 123,
     "metadata": {},
     "output_type": "execute_result"
    }
   ],
   "source": [
    "f=open(\"legorafi.txt\")\n",
    "t=f.read()\n",
    "l=t.split()\n",
    "c=collections.Counter(l)\n",
    "c"
   ]
  },
  {
   "cell_type": "markdown",
   "metadata": {},
   "source": [
    "Ordonner la fréquence par ordre décroissant et l'afficher."
   ]
  },
  {
   "cell_type": "code",
   "execution_count": 159,
   "metadata": {},
   "outputs": [
    {
     "data": {
      "image/png": "[encoded data removed]",
      "text/plain": [
       "<matplotlib.figure.Figure at 0x16af1566e48>"
      ]
     },
     "metadata": {},
     "output_type": "display_data"
    }
   ],
   "source": [
    "#for label, value in c.most_common():\n",
    "#    print(label, value)\n",
    "    \n",
    "labels, values = zip(*c.most_common())\n",
    "indexes = np.arange(len(labels))\n",
    "width = 1\n",
    "\n",
    "plt.bar(indexes[:10], values[:10], width)\n",
    "plt.xticks(indexes[:10] + width * 0.5 - 0.5, labels[:10])\n",
    "plt.show()"
   ]
  },
  {
   "cell_type": "code",
   "execution_count": 144,
   "metadata": {},
   "outputs": [],
   "source": [
    "def lop(op, l):\n",
    "    return op(l)"
   ]
  },
  {
   "cell_type": "code",
   "execution_count": 146,
   "metadata": {},
   "outputs": [
    {
     "data": {
      "text/plain": [
       "2.0"
      ]
     },
     "execution_count": 146,
     "metadata": {},
     "output_type": "execute_result"
    }
   ],
   "source": [
    "lop(np.mean, [1,2,3])"
   ]
  },
  {
   "cell_type": "code",
   "execution_count": null,
   "metadata": {},
   "outputs": [],
   "source": []
  }
 ],
 "metadata": {
  "kernelspec": {
   "display_name": "Python 3",
   "language": "python",
   "name": "python3"
  },
  "language_info": {
   "codemirror_mode": {
    "name": "ipython",
    "version": 3
   },
   "file_extension": ".py",
   "mimetype": "text/x-python",
   "name": "python",
   "nbconvert_exporter": "python",
   "pygments_lexer": "ipython3",
   "version": "3.6.4"
  }
 },
 "nbformat": 4,
 "nbformat_minor": 2
}
